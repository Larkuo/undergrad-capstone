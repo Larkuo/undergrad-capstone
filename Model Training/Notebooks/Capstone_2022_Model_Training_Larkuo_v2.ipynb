{
 "cells": [
  {
   "cell_type": "markdown",
   "metadata": {},
   "source": [
    "## **Section 1 - Taking & Labelling the Images**\n",
    "\n",
    "Using a USB Camera and Laptop, 1000 images were taken in batches of 5 or 10 at a time.\n",
    "Changes in the image frames were made by varying\n",
    "\n",
    "*   Object Orientation\n",
    "*   Lighting\n",
    "*   Object Position\n",
    "*   Object Distance away from the camera\n",
    "*   and the objects being in and out of the frame\n",
    "\n",
    "Images taken were sized 640x320 (2:1) to rereduce memory usage especially while training the model later in this notebook\n",
    "\n",
    "After images were obtained, they were labeled using [labelImg](https://github.com/tzutalin/labelImg) a graphical python tool for annorating images. \n",
    "\n",
    "The object classes used for labelling are:\n",
    "1.   potatoe_fries\n",
    "2.   chicken\n",
    "3.   empty_plate\n",
    "4.   ketchup_portion\n",
    "5.   ketchup_bottle\n",
    "\n",
    "The images were then randomized and split into an 80:20 ratio for training and validation/evaluating the model.\n",
    "The images and labels/annotation files can be found [HERE](https://drive.google.com/drive/folders/1-PQKmn6JBVB2q4mw21Muee8vS3BoCkYE?usp=sharing)"
   ]
  },
  {
   "cell_type": "markdown",
   "metadata": {
    "id": "BRYjtwRZGBOI"
   },
   "source": [
    "## **Section 2 - Preparation**\n",
    "\n",
    "\n",
    "Installing the required packages, including the Model Maker package from the [GitHub repo](https://github.com/tensorflow/examples/tree/master/tensorflow_examples/lite/model_maker) and the pycocotools library to be used for model evaluation.\n",
    "\n",
    "Importing the installed packages"
   ]
  },
  {
   "cell_type": "code",
   "execution_count": 1,
   "metadata": {
    "execution": {
     "iopub.execute_input": "2022-04-27T14:19:23.312970Z",
     "iopub.status.busy": "2022-04-27T14:19:23.312630Z",
     "iopub.status.idle": "2022-04-27T14:19:36.741107Z",
     "shell.execute_reply": "2022-04-27T14:19:36.740174Z",
     "shell.execute_reply.started": "2022-04-27T14:19:23.312859Z"
    }
   },
   "outputs": [
    {
     "name": "stdout",
     "output_type": "stream",
     "text": [
      "Get:1 http://security.ubuntu.com/ubuntu focal-security InRelease [114 kB]\n",
      "Hit:2 http://archive.ubuntu.com/ubuntu focal InRelease\n",
      "Get:3 http://archive.ubuntu.com/ubuntu focal-updates InRelease [114 kB]\n",
      "Get:4 http://archive.ubuntu.com/ubuntu focal-backports InRelease [108 kB]\n",
      "Get:5 http://security.ubuntu.com/ubuntu focal-security/universe amd64 Packages [870 kB]\n",
      "Get:6 http://security.ubuntu.com/ubuntu focal-security/restricted amd64 Packages [1139 kB]\n",
      "Get:7 http://archive.ubuntu.com/ubuntu focal-updates/multiverse amd64 Packages [30.3 kB]\n",
      "Get:8 http://security.ubuntu.com/ubuntu focal-security/main amd64 Packages [1773 kB]\n",
      "Get:9 http://archive.ubuntu.com/ubuntu focal-updates/main amd64 Packages [2192 kB]\n",
      "Get:10 http://archive.ubuntu.com/ubuntu focal-updates/restricted amd64 Packages [1216 kB]\n",
      "Get:11 http://archive.ubuntu.com/ubuntu focal-updates/universe amd64 Packages [1155 kB]\n",
      "Get:12 http://archive.ubuntu.com/ubuntu focal-backports/universe amd64 Packages [26.0 kB]\n",
      "Get:13 http://archive.ubuntu.com/ubuntu focal-backports/main amd64 Packages [51.2 kB]\n",
      "Fetched 8788 kB in 3s (3425 kB/s)\n",
      "Reading package lists... Done\n",
      "Requirement already satisfied: pip in /usr/local/lib/python3.8/dist-packages (22.0.3)\n",
      "Collecting pip\n",
      "  Downloading pip-22.0.4-py3-none-any.whl (2.1 MB)\n",
      "\u001b[2K     \u001b[90m━━━━━━━━━━━━━━━━━━━━━━━━━━━━━━━━━━━━━━━━\u001b[0m \u001b[32m2.1/2.1 MB\u001b[0m \u001b[31m19.7 MB/s\u001b[0m eta \u001b[36m0:00:00\u001b[0m00:01\u001b[0m00:01\u001b[0m\n",
      "\u001b[?25hInstalling collected packages: pip\n",
      "  Attempting uninstall: pip\n",
      "    Found existing installation: pip 22.0.3\n",
      "    Uninstalling pip-22.0.3:\n",
      "      Successfully uninstalled pip-22.0.3\n",
      "Successfully installed pip-22.0.4\n",
      "\u001b[33mWARNING: Running pip as the 'root' user can result in broken permissions and conflicting behaviour with the system package manager. It is recommended to use a virtual environment instead: https://pip.pypa.io/warnings/venv\u001b[0m\u001b[33m\n",
      "\u001b[0m"
     ]
    }
   ],
   "source": [
    "!apt-get update\n",
    "!python -m pip install --upgrade pip"
   ]
  },
  {
   "cell_type": "code",
   "execution_count": 3,
   "metadata": {
    "execution": {
     "iopub.execute_input": "2022-04-27T14:21:09.937375Z",
     "iopub.status.busy": "2022-04-27T14:21:09.937086Z",
     "iopub.status.idle": "2022-04-27T14:21:28.168906Z",
     "shell.execute_reply": "2022-04-27T14:21:28.168201Z",
     "shell.execute_reply.started": "2022-04-27T14:21:09.937337Z"
    },
    "id": "35BJmtVpAP_n"
   },
   "outputs": [
    {
     "name": "stdout",
     "output_type": "stream",
     "text": [
      "Requirement already satisfied: numba in /usr/local/lib/python3.8/dist-packages (0.53.0)\n",
      "Requirement already satisfied: llvmlite<0.37,>=0.36.0rc1 in /usr/local/lib/python3.8/dist-packages (from numba) (0.36.0)\n",
      "Requirement already satisfied: setuptools in /usr/local/lib/python3.8/dist-packages (from numba) (59.4.0)\n",
      "Requirement already satisfied: numpy>=1.15 in /usr/local/lib/python3.8/dist-packages (from numba) (1.19.4)\n",
      "\u001b[33mWARNING: Running pip as the 'root' user can result in broken permissions and conflicting behaviour with the system package manager. It is recommended to use a virtual environment instead: https://pip.pypa.io/warnings/venv\u001b[0m\u001b[33m\n",
      "\u001b[0m\u001b[33mWARNING: Running pip as the 'root' user can result in broken permissions and conflicting behaviour with the system package manager. It is recommended to use a virtual environment instead: https://pip.pypa.io/warnings/venv\u001b[0m\u001b[33m\n",
      "\u001b[0m\u001b[33mWARNING: Running pip as the 'root' user can result in broken permissions and conflicting behaviour with the system package manager. It is recommended to use a virtual environment instead: https://pip.pypa.io/warnings/venv\u001b[0m\u001b[33m\n",
      "\u001b[0mRequirement already satisfied: pycocotools in /usr/local/lib/python3.8/dist-packages (2.0.4)\n",
      "Requirement already satisfied: matplotlib>=2.1.0 in /usr/local/lib/python3.8/dist-packages (from pycocotools) (3.4.3)\n",
      "Requirement already satisfied: numpy in /usr/local/lib/python3.8/dist-packages (from pycocotools) (1.19.4)\n",
      "Requirement already satisfied: pillow>=6.2.0 in /usr/local/lib/python3.8/dist-packages (from matplotlib>=2.1.0->pycocotools) (9.0.1)\n",
      "Requirement already satisfied: python-dateutil>=2.7 in /usr/local/lib/python3.8/dist-packages (from matplotlib>=2.1.0->pycocotools) (2.8.2)\n",
      "Requirement already satisfied: cycler>=0.10 in /usr/local/lib/python3.8/dist-packages (from matplotlib>=2.1.0->pycocotools) (0.11.0)\n",
      "Requirement already satisfied: pyparsing>=2.2.1 in /usr/local/lib/python3.8/dist-packages (from matplotlib>=2.1.0->pycocotools) (3.0.7)\n",
      "Requirement already satisfied: kiwisolver>=1.0.1 in /usr/local/lib/python3.8/dist-packages (from matplotlib>=2.1.0->pycocotools) (1.3.2)\n",
      "Requirement already satisfied: six>=1.5 in /usr/local/lib/python3.8/dist-packages (from python-dateutil>=2.7->matplotlib>=2.1.0->pycocotools) (1.15.0)\n",
      "\u001b[33mWARNING: Running pip as the 'root' user can result in broken permissions and conflicting behaviour with the system package manager. It is recommended to use a virtual environment instead: https://pip.pypa.io/warnings/venv\u001b[0m\u001b[33m\n",
      "\u001b[0m"
     ]
    }
   ],
   "source": [
    "!pip install numba\n",
    "!pip install -q tflite-model-maker\n",
    "!pip install -q tflite-support\n",
    "!pip install pycocotools"
   ]
  },
  {
   "cell_type": "markdown",
   "metadata": {
    "id": "prQ86DdtD317"
   },
   "source": [
    "Import the required packages."
   ]
  },
  {
   "cell_type": "code",
   "execution_count": 2,
   "metadata": {
    "execution": {
     "iopub.execute_input": "2022-04-27T14:29:55.027234Z",
     "iopub.status.busy": "2022-04-27T14:29:55.026607Z",
     "iopub.status.idle": "2022-04-27T14:30:03.763116Z",
     "shell.execute_reply": "2022-04-27T14:30:03.762106Z",
     "shell.execute_reply.started": "2022-04-27T14:29:55.027194Z"
    },
    "id": "l4QQTXHHATDS"
   },
   "outputs": [],
   "source": [
    "import numpy as np\n",
    "import os\n",
    "\n",
    "from tflite_model_maker.config import ExportFormat, QuantizationConfig\n",
    "from tflite_model_maker import model_spec\n",
    "from tflite_model_maker import object_detector\n",
    "\n",
    "from tflite_support import metadata\n",
    "\n",
    "import tensorflow as tf\n",
    "assert tf.__version__.startswith('2')\n",
    "\n",
    "tf.get_logger().setLevel('ERROR')\n",
    "from absl import logging\n",
    "logging.set_verbosity(logging.ERROR)"
   ]
  },
  {
   "cell_type": "markdown",
   "metadata": {
    "id": "YsmeF8n08IeJ"
   },
   "source": [
    "## **Section 3 - Training the Model**"
   ]
  },
  {
   "cell_type": "markdown",
   "metadata": {
    "id": "Yxh3KInCFeB-"
   },
   "source": [
    "### Step 1: Load the dataset\n",
    "\n",
    "* Images in `train_data` is used to train the object detection model.\n",
    "* Images in `val_data` is used to evaluate and check if the model can generalize/predict well to new images that it hasn't seen before."
   ]
  },
  {
   "cell_type": "code",
   "execution_count": 3,
   "metadata": {
    "execution": {
     "iopub.execute_input": "2022-04-27T14:30:15.725570Z",
     "iopub.status.busy": "2022-04-27T14:30:15.725208Z",
     "iopub.status.idle": "2022-04-27T14:30:22.514376Z",
     "shell.execute_reply": "2022-04-27T14:30:22.513768Z",
     "shell.execute_reply.started": "2022-04-27T14:30:15.725542Z"
    },
    "id": "WiAahdsQAdT7"
   },
   "outputs": [],
   "source": [
    "train_data = object_detector.DataLoader.from_pascal_voc(\n",
    "    '/notebooks/train',\n",
    "    '/notebooks/train',\n",
    "    ['chicken','ketchup_portion', 'ketchup_bottle', 'potatoe_fries', 'empty_plate']\n",
    ")\n",
    "\n",
    "val_data = object_detector.DataLoader.from_pascal_voc(\n",
    "    '/notebooks/validate',\n",
    "    '/notebooks/validate',\n",
    "    ['chicken','ketchup_portion', 'ketchup_bottle', 'potatoe_fries', 'empty_plate']\n",
    ")"
   ]
  },
  {
   "cell_type": "code",
   "execution_count": 5,
   "metadata": {
    "colab": {
     "base_uri": "https://localhost:8080/"
    },
    "execution": {
     "iopub.execute_input": "2022-04-27T10:21:31.214379Z",
     "iopub.status.busy": "2022-04-27T10:21:31.214139Z",
     "iopub.status.idle": "2022-04-27T10:21:31.223286Z",
     "shell.execute_reply": "2022-04-27T10:21:31.222340Z",
     "shell.execute_reply.started": "2022-04-27T10:21:31.214348Z"
    },
    "id": "Pxiy0rvUAooG",
    "outputId": "71029c64-50e3-40fe-f9d3-2ca82dbe99c5"
   },
   "outputs": [
    {
     "data": {
      "text/plain": [
       "800"
      ]
     },
     "execution_count": 5,
     "metadata": {},
     "output_type": "execute_result"
    }
   ],
   "source": [
    "len(train_data)"
   ]
  },
  {
   "cell_type": "code",
   "execution_count": 6,
   "metadata": {
    "colab": {
     "base_uri": "https://localhost:8080/"
    },
    "execution": {
     "iopub.execute_input": "2022-04-27T10:21:31.224828Z",
     "iopub.status.busy": "2022-04-27T10:21:31.224596Z",
     "iopub.status.idle": "2022-04-27T10:21:31.230808Z",
     "shell.execute_reply": "2022-04-27T10:21:31.229722Z",
     "shell.execute_reply.started": "2022-04-27T10:21:31.224800Z"
    },
    "id": "opn29kweBIt6",
    "outputId": "2b31c32f-c5d3-4826-c2f0-1b3a29785d60"
   },
   "outputs": [
    {
     "data": {
      "text/plain": [
       "200"
      ]
     },
     "execution_count": 6,
     "metadata": {},
     "output_type": "execute_result"
    }
   ],
   "source": [
    "len(val_data)"
   ]
  },
  {
   "cell_type": "markdown",
   "metadata": {
    "id": "UNRhB8N7GHXj"
   },
   "source": [
    "### Step 2: Select a model architecture\n",
    "\n",
    "EfficientDet-Lite[0-4] are a family of mobile/IoT-friendly object detection models derived from the [EfficientDet](https://arxiv.org/abs/1911.09070) architecture.\n",
    "\n",
    "The performance of each EfficientDet-Lite model compared to others is shown in the table below.\n",
    "\n",
    "| Model architecture | Size(MB)* | Latency(ms)** | Average Precision*** |\n",
    "|--------------------|-----------|---------------|----------------------|\n",
    "| EfficientDet-Lite0 | 4.4       | 146           | 25.69%               |\n",
    "| EfficientDet-Lite1 | 5.8       | 259           | 30.55%               |\n",
    "| EfficientDet-Lite2 | 7.2       | 396           | 33.97%               |\n",
    "| EfficientDet-Lite3 | 11.4      | 716           | 37.70%               |\n",
    "| EfficientDet-Lite4 | 19.9      | 1886          | 41.96%               |\n",
    "\n",
    "<i> * Size of the integer quantized models. <br/>\n",
    "** Latency measured on Raspberry Pi 4 using 4 threads on CPU. <br/>\n",
    "*** Average Precision is the mAP (mean Average Precision) on the COCO 2017 validation dataset.\n",
    "</i>\n"
   ]
  },
  {
   "cell_type": "markdown",
   "metadata": {
    "id": "xA-y0JbMNDGj"
   },
   "source": [
    "## **Architecture: EfficientDet-Lite0**"
   ]
  },
  {
   "cell_type": "code",
   "execution_count": 5,
   "metadata": {
    "execution": {
     "iopub.execute_input": "2022-04-27T14:26:28.926667Z",
     "iopub.status.busy": "2022-04-27T14:26:28.926429Z",
     "iopub.status.idle": "2022-04-27T14:26:28.929922Z",
     "shell.execute_reply": "2022-04-27T14:26:28.929485Z",
     "shell.execute_reply.started": "2022-04-27T14:26:28.926645Z"
    },
    "id": "GZOojrDHAY1J"
   },
   "outputs": [],
   "source": [
    "spec = model_spec.get('efficientdet_lite0')"
   ]
  },
  {
   "cell_type": "markdown",
   "metadata": {
    "id": "5aeDU4mIM4ft"
   },
   "source": [
    "### Step 3: Train the TensorFlow model with the training data.\n",
    "\n",
    "* Set `epochs = 50`, which means it will go through the training dataset 50 times. You can look at the validation accuracy during training and stop when you see validation loss (`val_loss`) stop decreasing to avoid overfitting.\n",
    "* Set `batch_size = 5` which takes 200 steps to go through the 800 images in the training dataset for each epoch.\n",
    "* Set `train_whole_model=True` to fine-tune the whole model instead of just training the head layer to improve accuracy."
   ]
  },
  {
   "cell_type": "code",
   "execution_count": 11,
   "metadata": {
    "colab": {
     "base_uri": "https://localhost:8080/"
    },
    "execution": {
     "iopub.execute_input": "2022-04-27T10:24:03.396725Z",
     "iopub.status.busy": "2022-04-27T10:24:03.396332Z",
     "iopub.status.idle": "2022-04-27T11:51:57.491589Z",
     "shell.execute_reply": "2022-04-27T11:51:57.485275Z",
     "shell.execute_reply.started": "2022-04-27T10:24:03.396691Z"
    },
    "id": "_MClfpsJAfda",
    "outputId": "258f9b36-b785-4b47-ca8d-d5fab50ff30b"
   },
   "outputs": [
    {
     "name": "stdout",
     "output_type": "stream",
     "text": [
      "Epoch 1/100\n"
     ]
    },
    {
     "name": "stderr",
     "output_type": "stream",
     "text": [
      "2022-04-27 10:25:23.754076: I tensorflow/stream_executor/cuda/cuda_dnn.cc:377] Loaded cuDNN version 8302\n"
     ]
    },
    {
     "name": "stdout",
     "output_type": "stream",
     "text": [
      "80/80 [==============================] - 121s 694ms/step - det_loss: 1.3265 - cls_loss: 0.8403 - box_loss: 0.0097 - reg_l2_loss: 0.0635 - loss: 1.3900 - learning_rate: 0.0102 - gradient_norm: 1.4084 - val_det_loss: 0.7505 - val_cls_loss: 0.4660 - val_box_loss: 0.0057 - val_reg_l2_loss: 0.0636 - val_loss: 0.8141\n",
      "Epoch 2/100\n",
      "80/80 [==============================] - 49s 611ms/step - det_loss: 0.6002 - cls_loss: 0.3816 - box_loss: 0.0044 - reg_l2_loss: 0.0636 - loss: 0.6638 - learning_rate: 0.0125 - gradient_norm: 1.8670 - val_det_loss: 0.4720 - val_cls_loss: 0.2771 - val_box_loss: 0.0039 - val_reg_l2_loss: 0.0636 - val_loss: 0.5356\n",
      "Epoch 3/100\n",
      "80/80 [==============================] - 49s 610ms/step - det_loss: 0.4118 - cls_loss: 0.2742 - box_loss: 0.0028 - reg_l2_loss: 0.0636 - loss: 0.4754 - learning_rate: 0.0125 - gradient_norm: 1.7195 - val_det_loss: 0.3284 - val_cls_loss: 0.2095 - val_box_loss: 0.0024 - val_reg_l2_loss: 0.0636 - val_loss: 0.3921\n",
      "Epoch 4/100\n",
      "80/80 [==============================] - 50s 624ms/step - det_loss: 0.3318 - cls_loss: 0.2221 - box_loss: 0.0022 - reg_l2_loss: 0.0636 - loss: 0.3955 - learning_rate: 0.0125 - gradient_norm: 1.6107 - val_det_loss: 0.2811 - val_cls_loss: 0.1902 - val_box_loss: 0.0018 - val_reg_l2_loss: 0.0637 - val_loss: 0.3447\n",
      "Epoch 5/100\n",
      "80/80 [==============================] - 68s 854ms/step - det_loss: 0.2798 - cls_loss: 0.1872 - box_loss: 0.0019 - reg_l2_loss: 0.0637 - loss: 0.3434 - learning_rate: 0.0124 - gradient_norm: 1.5403 - val_det_loss: 0.2579 - val_cls_loss: 0.1787 - val_box_loss: 0.0016 - val_reg_l2_loss: 0.0637 - val_loss: 0.3216\n",
      "Epoch 6/100\n",
      "80/80 [==============================] - 49s 612ms/step - det_loss: 0.2491 - cls_loss: 0.1689 - box_loss: 0.0016 - reg_l2_loss: 0.0637 - loss: 0.3128 - learning_rate: 0.0124 - gradient_norm: 1.4041 - val_det_loss: 0.2111 - val_cls_loss: 0.1451 - val_box_loss: 0.0013 - val_reg_l2_loss: 0.0637 - val_loss: 0.2748\n",
      "Epoch 7/100\n",
      "80/80 [==============================] - 49s 615ms/step - det_loss: 0.2307 - cls_loss: 0.1560 - box_loss: 0.0015 - reg_l2_loss: 0.0637 - loss: 0.2944 - learning_rate: 0.0124 - gradient_norm: 1.3785 - val_det_loss: 0.2387 - val_cls_loss: 0.1432 - val_box_loss: 0.0019 - val_reg_l2_loss: 0.0637 - val_loss: 0.3024\n",
      "Epoch 8/100\n",
      "80/80 [==============================] - 49s 614ms/step - det_loss: 0.2168 - cls_loss: 0.1492 - box_loss: 0.0014 - reg_l2_loss: 0.0637 - loss: 0.2805 - learning_rate: 0.0123 - gradient_norm: 1.3316 - val_det_loss: 0.2223 - val_cls_loss: 0.1644 - val_box_loss: 0.0012 - val_reg_l2_loss: 0.0637 - val_loss: 0.2859\n",
      "Epoch 9/100\n",
      "80/80 [==============================] - 51s 632ms/step - det_loss: 0.2058 - cls_loss: 0.1404 - box_loss: 0.0013 - reg_l2_loss: 0.0637 - loss: 0.2695 - learning_rate: 0.0123 - gradient_norm: 1.3467 - val_det_loss: 0.2094 - val_cls_loss: 0.1313 - val_box_loss: 0.0016 - val_reg_l2_loss: 0.0637 - val_loss: 0.2730\n",
      "Epoch 10/100\n",
      "80/80 [==============================] - 61s 760ms/step - det_loss: 0.2028 - cls_loss: 0.1380 - box_loss: 0.0013 - reg_l2_loss: 0.0637 - loss: 0.2665 - learning_rate: 0.0122 - gradient_norm: 1.3485 - val_det_loss: 0.1807 - val_cls_loss: 0.1269 - val_box_loss: 0.0011 - val_reg_l2_loss: 0.0637 - val_loss: 0.2444\n",
      "Epoch 11/100\n",
      "80/80 [==============================] - 51s 640ms/step - det_loss: 0.1854 - cls_loss: 0.1281 - box_loss: 0.0011 - reg_l2_loss: 0.0637 - loss: 0.2491 - learning_rate: 0.0122 - gradient_norm: 1.2443 - val_det_loss: 0.1778 - val_cls_loss: 0.1297 - val_box_loss: 9.6182e-04 - val_reg_l2_loss: 0.0637 - val_loss: 0.2415\n",
      "Epoch 12/100\n",
      "80/80 [==============================] - 50s 629ms/step - det_loss: 0.1865 - cls_loss: 0.1288 - box_loss: 0.0012 - reg_l2_loss: 0.0637 - loss: 0.2502 - learning_rate: 0.0121 - gradient_norm: 1.3325 - val_det_loss: 0.1782 - val_cls_loss: 0.1279 - val_box_loss: 0.0010 - val_reg_l2_loss: 0.0637 - val_loss: 0.2418\n",
      "Epoch 13/100\n",
      "80/80 [==============================] - 51s 638ms/step - det_loss: 0.1735 - cls_loss: 0.1215 - box_loss: 0.0010 - reg_l2_loss: 0.0636 - loss: 0.2372 - learning_rate: 0.0120 - gradient_norm: 1.2122 - val_det_loss: 0.1919 - val_cls_loss: 0.1267 - val_box_loss: 0.0013 - val_reg_l2_loss: 0.0636 - val_loss: 0.2555\n",
      "Epoch 14/100\n",
      "80/80 [==============================] - 51s 642ms/step - det_loss: 0.1654 - cls_loss: 0.1152 - box_loss: 0.0010 - reg_l2_loss: 0.0636 - loss: 0.2291 - learning_rate: 0.0119 - gradient_norm: 1.1756 - val_det_loss: 0.1496 - val_cls_loss: 0.1104 - val_box_loss: 7.8362e-04 - val_reg_l2_loss: 0.0636 - val_loss: 0.2132\n",
      "Epoch 15/100\n",
      "80/80 [==============================] - 59s 745ms/step - det_loss: 0.1604 - cls_loss: 0.1137 - box_loss: 9.3436e-04 - reg_l2_loss: 0.0636 - loss: 0.2240 - learning_rate: 0.0118 - gradient_norm: 1.2082 - val_det_loss: 0.1673 - val_cls_loss: 0.1216 - val_box_loss: 9.1539e-04 - val_reg_l2_loss: 0.0636 - val_loss: 0.2309\n",
      "Epoch 16/100\n",
      "80/80 [==============================] - 52s 646ms/step - det_loss: 0.1632 - cls_loss: 0.1148 - box_loss: 9.6818e-04 - reg_l2_loss: 0.0636 - loss: 0.2268 - learning_rate: 0.0118 - gradient_norm: 1.2594 - val_det_loss: 0.1460 - val_cls_loss: 0.1075 - val_box_loss: 7.7096e-04 - val_reg_l2_loss: 0.0636 - val_loss: 0.2096\n",
      "Epoch 17/100\n",
      "80/80 [==============================] - 50s 631ms/step - det_loss: 0.1543 - cls_loss: 0.1090 - box_loss: 9.0619e-04 - reg_l2_loss: 0.0636 - loss: 0.2179 - learning_rate: 0.0117 - gradient_norm: 1.1774 - val_det_loss: 0.1449 - val_cls_loss: 0.1033 - val_box_loss: 8.3205e-04 - val_reg_l2_loss: 0.0636 - val_loss: 0.2085\n",
      "Epoch 18/100\n",
      "80/80 [==============================] - 52s 647ms/step - det_loss: 0.1546 - cls_loss: 0.1107 - box_loss: 8.7846e-04 - reg_l2_loss: 0.0636 - loss: 0.2182 - learning_rate: 0.0116 - gradient_norm: 1.1263 - val_det_loss: 0.1366 - val_cls_loss: 0.0963 - val_box_loss: 8.0650e-04 - val_reg_l2_loss: 0.0636 - val_loss: 0.2002\n",
      "Epoch 19/100\n",
      "80/80 [==============================] - 51s 633ms/step - det_loss: 0.1476 - cls_loss: 0.1047 - box_loss: 8.5801e-04 - reg_l2_loss: 0.0636 - loss: 0.2112 - learning_rate: 0.0115 - gradient_norm: 1.1587 - val_det_loss: 0.1317 - val_cls_loss: 0.0982 - val_box_loss: 6.6913e-04 - val_reg_l2_loss: 0.0636 - val_loss: 0.1952\n",
      "Epoch 20/100\n",
      "80/80 [==============================] - 61s 767ms/step - det_loss: 0.1451 - cls_loss: 0.1033 - box_loss: 8.3470e-04 - reg_l2_loss: 0.0635 - loss: 0.2086 - learning_rate: 0.0113 - gradient_norm: 1.1538 - val_det_loss: 0.1481 - val_cls_loss: 0.1061 - val_box_loss: 8.3957e-04 - val_reg_l2_loss: 0.0635 - val_loss: 0.2116\n",
      "Epoch 21/100\n",
      "80/80 [==============================] - 52s 647ms/step - det_loss: 0.1389 - cls_loss: 0.0995 - box_loss: 7.8812e-04 - reg_l2_loss: 0.0635 - loss: 0.2024 - learning_rate: 0.0112 - gradient_norm: 1.0895 - val_det_loss: 0.1316 - val_cls_loss: 0.0982 - val_box_loss: 6.6785e-04 - val_reg_l2_loss: 0.0635 - val_loss: 0.1952\n",
      "Epoch 22/100\n",
      "80/80 [==============================] - 50s 624ms/step - det_loss: 0.1432 - cls_loss: 0.1008 - box_loss: 8.4799e-04 - reg_l2_loss: 0.0635 - loss: 0.2067 - learning_rate: 0.0111 - gradient_norm: 1.1560 - val_det_loss: 0.1331 - val_cls_loss: 0.0924 - val_box_loss: 8.1409e-04 - val_reg_l2_loss: 0.0635 - val_loss: 0.1966\n",
      "Epoch 23/100\n",
      "80/80 [==============================] - 51s 642ms/step - det_loss: 0.1305 - cls_loss: 0.0934 - box_loss: 7.4102e-04 - reg_l2_loss: 0.0635 - loss: 0.1939 - learning_rate: 0.0110 - gradient_norm: 1.0205 - val_det_loss: 0.1151 - val_cls_loss: 0.0817 - val_box_loss: 6.6820e-04 - val_reg_l2_loss: 0.0635 - val_loss: 0.1786\n",
      "Epoch 24/100\n",
      "80/80 [==============================] - 51s 632ms/step - det_loss: 0.1321 - cls_loss: 0.0956 - box_loss: 7.2885e-04 - reg_l2_loss: 0.0635 - loss: 0.1956 - learning_rate: 0.0108 - gradient_norm: 1.0965 - val_det_loss: 0.1220 - val_cls_loss: 0.0886 - val_box_loss: 6.6743e-04 - val_reg_l2_loss: 0.0635 - val_loss: 0.1855\n",
      "Epoch 25/100\n",
      "80/80 [==============================] - 60s 756ms/step - det_loss: 0.1292 - cls_loss: 0.0939 - box_loss: 7.0521e-04 - reg_l2_loss: 0.0635 - loss: 0.1926 - learning_rate: 0.0107 - gradient_norm: 1.0438 - val_det_loss: 0.1184 - val_cls_loss: 0.0861 - val_box_loss: 6.4478e-04 - val_reg_l2_loss: 0.0634 - val_loss: 0.1818\n",
      "Epoch 26/100\n",
      "80/80 [==============================] - 50s 631ms/step - det_loss: 0.1239 - cls_loss: 0.0909 - box_loss: 6.6067e-04 - reg_l2_loss: 0.0634 - loss: 0.1873 - learning_rate: 0.0106 - gradient_norm: 1.0155 - val_det_loss: 0.1128 - val_cls_loss: 0.0863 - val_box_loss: 5.3018e-04 - val_reg_l2_loss: 0.0634 - val_loss: 0.1762\n",
      "Epoch 27/100\n",
      "80/80 [==============================] - 51s 643ms/step - det_loss: 0.1299 - cls_loss: 0.0938 - box_loss: 7.2290e-04 - reg_l2_loss: 0.0634 - loss: 0.1933 - learning_rate: 0.0104 - gradient_norm: 1.1079 - val_det_loss: 0.1152 - val_cls_loss: 0.0898 - val_box_loss: 5.0836e-04 - val_reg_l2_loss: 0.0634 - val_loss: 0.1786\n",
      "Epoch 28/100\n",
      "80/80 [==============================] - 51s 644ms/step - det_loss: 0.1291 - cls_loss: 0.0940 - box_loss: 7.0169e-04 - reg_l2_loss: 0.0634 - loss: 0.1925 - learning_rate: 0.0103 - gradient_norm: 1.1268 - val_det_loss: 0.1254 - val_cls_loss: 0.0914 - val_box_loss: 6.8089e-04 - val_reg_l2_loss: 0.0634 - val_loss: 0.1888\n",
      "Epoch 29/100\n",
      "80/80 [==============================] - 52s 649ms/step - det_loss: 0.1231 - cls_loss: 0.0902 - box_loss: 6.5806e-04 - reg_l2_loss: 0.0634 - loss: 0.1865 - learning_rate: 0.0101 - gradient_norm: 1.0740 - val_det_loss: 0.1141 - val_cls_loss: 0.0882 - val_box_loss: 5.1821e-04 - val_reg_l2_loss: 0.0634 - val_loss: 0.1774\n",
      "Epoch 30/100\n",
      "80/80 [==============================] - 61s 767ms/step - det_loss: 0.1260 - cls_loss: 0.0911 - box_loss: 6.9810e-04 - reg_l2_loss: 0.0634 - loss: 0.1893 - learning_rate: 0.0100 - gradient_norm: 1.1348 - val_det_loss: 0.1148 - val_cls_loss: 0.0874 - val_box_loss: 5.4831e-04 - val_reg_l2_loss: 0.0633 - val_loss: 0.1782\n",
      "Epoch 31/100\n",
      "80/80 [==============================] - 51s 645ms/step - det_loss: 0.1224 - cls_loss: 0.0895 - box_loss: 6.5805e-04 - reg_l2_loss: 0.0633 - loss: 0.1857 - learning_rate: 0.0098 - gradient_norm: 1.0459 - val_det_loss: 0.0934 - val_cls_loss: 0.0719 - val_box_loss: 4.3062e-04 - val_reg_l2_loss: 0.0633 - val_loss: 0.1567\n",
      "Epoch 32/100\n",
      "80/80 [==============================] - 51s 635ms/step - det_loss: 0.1133 - cls_loss: 0.0839 - box_loss: 5.8685e-04 - reg_l2_loss: 0.0633 - loss: 0.1766 - learning_rate: 0.0096 - gradient_norm: 0.9392 - val_det_loss: 0.0979 - val_cls_loss: 0.0776 - val_box_loss: 4.0665e-04 - val_reg_l2_loss: 0.0633 - val_loss: 0.1612\n",
      "Epoch 33/100\n",
      "80/80 [==============================] - 51s 632ms/step - det_loss: 0.1140 - cls_loss: 0.0836 - box_loss: 6.0644e-04 - reg_l2_loss: 0.0633 - loss: 0.1773 - learning_rate: 0.0095 - gradient_norm: 0.9965 - val_det_loss: 0.0937 - val_cls_loss: 0.0717 - val_box_loss: 4.4059e-04 - val_reg_l2_loss: 0.0633 - val_loss: 0.1570\n",
      "Epoch 34/100\n",
      "80/80 [==============================] - 51s 633ms/step - det_loss: 0.1182 - cls_loss: 0.0870 - box_loss: 6.2397e-04 - reg_l2_loss: 0.0633 - loss: 0.1815 - learning_rate: 0.0093 - gradient_norm: 1.0773 - val_det_loss: 0.1078 - val_cls_loss: 0.0822 - val_box_loss: 5.1174e-04 - val_reg_l2_loss: 0.0633 - val_loss: 0.1711\n",
      "Epoch 35/100\n",
      "80/80 [==============================] - 59s 746ms/step - det_loss: 0.1125 - cls_loss: 0.0835 - box_loss: 5.8001e-04 - reg_l2_loss: 0.0633 - loss: 0.1758 - learning_rate: 0.0091 - gradient_norm: 1.0272 - val_det_loss: 0.1000 - val_cls_loss: 0.0792 - val_box_loss: 4.1574e-04 - val_reg_l2_loss: 0.0632 - val_loss: 0.1632\n",
      "Epoch 36/100\n",
      "80/80 [==============================] - 50s 629ms/step - det_loss: 0.1094 - cls_loss: 0.0817 - box_loss: 5.5329e-04 - reg_l2_loss: 0.0632 - loss: 0.1726 - learning_rate: 0.0089 - gradient_norm: 0.9477 - val_det_loss: 0.0933 - val_cls_loss: 0.0707 - val_box_loss: 4.5268e-04 - val_reg_l2_loss: 0.0632 - val_loss: 0.1565\n",
      "Epoch 37/100\n",
      "80/80 [==============================] - 50s 632ms/step - det_loss: 0.1128 - cls_loss: 0.0838 - box_loss: 5.7877e-04 - reg_l2_loss: 0.0632 - loss: 0.1760 - learning_rate: 0.0088 - gradient_norm: 1.0134 - val_det_loss: 0.0986 - val_cls_loss: 0.0777 - val_box_loss: 4.1880e-04 - val_reg_l2_loss: 0.0632 - val_loss: 0.1618\n",
      "Epoch 38/100\n",
      "80/80 [==============================] - 51s 632ms/step - det_loss: 0.1103 - cls_loss: 0.0823 - box_loss: 5.6014e-04 - reg_l2_loss: 0.0632 - loss: 0.1735 - learning_rate: 0.0086 - gradient_norm: 0.9731 - val_det_loss: 0.0984 - val_cls_loss: 0.0698 - val_box_loss: 5.7211e-04 - val_reg_l2_loss: 0.0632 - val_loss: 0.1616\n",
      "Epoch 39/100\n",
      "80/80 [==============================] - 52s 649ms/step - det_loss: 0.1070 - cls_loss: 0.0802 - box_loss: 5.3453e-04 - reg_l2_loss: 0.0632 - loss: 0.1701 - learning_rate: 0.0084 - gradient_norm: 0.9873 - val_det_loss: 0.0965 - val_cls_loss: 0.0726 - val_box_loss: 4.7724e-04 - val_reg_l2_loss: 0.0632 - val_loss: 0.1596\n",
      "Epoch 40/100\n",
      "80/80 [==============================] - 59s 741ms/step - det_loss: 0.1092 - cls_loss: 0.0807 - box_loss: 5.7035e-04 - reg_l2_loss: 0.0632 - loss: 0.1724 - learning_rate: 0.0082 - gradient_norm: 0.9825 - val_det_loss: 0.0912 - val_cls_loss: 0.0687 - val_box_loss: 4.5045e-04 - val_reg_l2_loss: 0.0631 - val_loss: 0.1544\n",
      "Epoch 41/100\n",
      "80/80 [==============================] - 51s 632ms/step - det_loss: 0.1018 - cls_loss: 0.0779 - box_loss: 4.7913e-04 - reg_l2_loss: 0.0631 - loss: 0.1650 - learning_rate: 0.0080 - gradient_norm: 0.9443 - val_det_loss: 0.0927 - val_cls_loss: 0.0708 - val_box_loss: 4.3759e-04 - val_reg_l2_loss: 0.0631 - val_loss: 0.1558\n",
      "Epoch 42/100\n",
      "80/80 [==============================] - 50s 631ms/step - det_loss: 0.1052 - cls_loss: 0.0788 - box_loss: 5.2901e-04 - reg_l2_loss: 0.0631 - loss: 0.1684 - learning_rate: 0.0078 - gradient_norm: 1.0854 - val_det_loss: 0.0918 - val_cls_loss: 0.0732 - val_box_loss: 3.7216e-04 - val_reg_l2_loss: 0.0631 - val_loss: 0.1550\n",
      "Epoch 43/100\n",
      "80/80 [==============================] - 51s 636ms/step - det_loss: 0.1049 - cls_loss: 0.0785 - box_loss: 5.2916e-04 - reg_l2_loss: 0.0631 - loss: 0.1680 - learning_rate: 0.0076 - gradient_norm: 1.0015 - val_det_loss: 0.0919 - val_cls_loss: 0.0722 - val_box_loss: 3.9240e-04 - val_reg_l2_loss: 0.0631 - val_loss: 0.1550\n",
      "Epoch 44/100\n",
      "80/80 [==============================] - 51s 633ms/step - det_loss: 0.1049 - cls_loss: 0.0785 - box_loss: 5.2757e-04 - reg_l2_loss: 0.0631 - loss: 0.1680 - learning_rate: 0.0074 - gradient_norm: 0.9514 - val_det_loss: 0.0862 - val_cls_loss: 0.0670 - val_box_loss: 3.8514e-04 - val_reg_l2_loss: 0.0631 - val_loss: 0.1493\n",
      "Epoch 45/100\n",
      "80/80 [==============================] - 60s 754ms/step - det_loss: 0.1062 - cls_loss: 0.0796 - box_loss: 5.3209e-04 - reg_l2_loss: 0.0631 - loss: 0.1692 - learning_rate: 0.0072 - gradient_norm: 1.0012 - val_det_loss: 0.0922 - val_cls_loss: 0.0750 - val_box_loss: 3.4339e-04 - val_reg_l2_loss: 0.0631 - val_loss: 0.1552\n",
      "Epoch 46/100\n",
      "80/80 [==============================] - 51s 635ms/step - det_loss: 0.0999 - cls_loss: 0.0749 - box_loss: 4.9966e-04 - reg_l2_loss: 0.0630 - loss: 0.1629 - learning_rate: 0.0070 - gradient_norm: 0.9165 - val_det_loss: 0.0914 - val_cls_loss: 0.0717 - val_box_loss: 3.9491e-04 - val_reg_l2_loss: 0.0630 - val_loss: 0.1545\n",
      "Epoch 47/100\n",
      "80/80 [==============================] - 51s 636ms/step - det_loss: 0.0984 - cls_loss: 0.0749 - box_loss: 4.6964e-04 - reg_l2_loss: 0.0630 - loss: 0.1614 - learning_rate: 0.0068 - gradient_norm: 0.9011 - val_det_loss: 0.1048 - val_cls_loss: 0.0756 - val_box_loss: 5.8499e-04 - val_reg_l2_loss: 0.0630 - val_loss: 0.1679\n",
      "Epoch 48/100\n",
      "80/80 [==============================] - 50s 631ms/step - det_loss: 0.0989 - cls_loss: 0.0748 - box_loss: 4.8247e-04 - reg_l2_loss: 0.0630 - loss: 0.1619 - learning_rate: 0.0066 - gradient_norm: 0.9022 - val_det_loss: 0.0770 - val_cls_loss: 0.0625 - val_box_loss: 2.9023e-04 - val_reg_l2_loss: 0.0630 - val_loss: 0.1400\n",
      "Epoch 49/100\n",
      "80/80 [==============================] - 50s 632ms/step - det_loss: 0.0969 - cls_loss: 0.0729 - box_loss: 4.8044e-04 - reg_l2_loss: 0.0630 - loss: 0.1599 - learning_rate: 0.0064 - gradient_norm: 0.9094 - val_det_loss: 0.0786 - val_cls_loss: 0.0591 - val_box_loss: 3.8870e-04 - val_reg_l2_loss: 0.0630 - val_loss: 0.1416\n",
      "Epoch 50/100\n",
      "80/80 [==============================] - 55s 692ms/step - det_loss: 0.0992 - cls_loss: 0.0746 - box_loss: 4.9256e-04 - reg_l2_loss: 0.0630 - loss: 0.1622 - learning_rate: 0.0063 - gradient_norm: 0.9539 - val_det_loss: 0.0732 - val_cls_loss: 0.0577 - val_box_loss: 3.0952e-04 - val_reg_l2_loss: 0.0630 - val_loss: 0.1362\n",
      "Epoch 51/100\n",
      "80/80 [==============================] - 48s 601ms/step - det_loss: 0.0954 - cls_loss: 0.0725 - box_loss: 4.5733e-04 - reg_l2_loss: 0.0630 - loss: 0.1583 - learning_rate: 0.0061 - gradient_norm: 0.9096 - val_det_loss: 0.0743 - val_cls_loss: 0.0578 - val_box_loss: 3.3022e-04 - val_reg_l2_loss: 0.0630 - val_loss: 0.1372\n",
      "Epoch 52/100\n",
      "80/80 [==============================] - 52s 649ms/step - det_loss: 0.0925 - cls_loss: 0.0708 - box_loss: 4.3341e-04 - reg_l2_loss: 0.0629 - loss: 0.1554 - learning_rate: 0.0059 - gradient_norm: 0.8747 - val_det_loss: 0.0797 - val_cls_loss: 0.0640 - val_box_loss: 3.1298e-04 - val_reg_l2_loss: 0.0629 - val_loss: 0.1426\n",
      "Epoch 53/100\n",
      "80/80 [==============================] - 49s 617ms/step - det_loss: 0.0940 - cls_loss: 0.0709 - box_loss: 4.6262e-04 - reg_l2_loss: 0.0629 - loss: 0.1570 - learning_rate: 0.0057 - gradient_norm: 0.8911 - val_det_loss: 0.0788 - val_cls_loss: 0.0606 - val_box_loss: 3.6440e-04 - val_reg_l2_loss: 0.0629 - val_loss: 0.1417\n",
      "Epoch 54/100\n",
      "80/80 [==============================] - 49s 618ms/step - det_loss: 0.0958 - cls_loss: 0.0732 - box_loss: 4.5174e-04 - reg_l2_loss: 0.0629 - loss: 0.1587 - learning_rate: 0.0055 - gradient_norm: 0.9509 - val_det_loss: 0.0672 - val_cls_loss: 0.0532 - val_box_loss: 2.8018e-04 - val_reg_l2_loss: 0.0629 - val_loss: 0.1301\n",
      "Epoch 55/100\n",
      "80/80 [==============================] - 58s 723ms/step - det_loss: 0.0947 - cls_loss: 0.0726 - box_loss: 4.4189e-04 - reg_l2_loss: 0.0629 - loss: 0.1576 - learning_rate: 0.0053 - gradient_norm: 0.9009 - val_det_loss: 0.0719 - val_cls_loss: 0.0552 - val_box_loss: 3.3551e-04 - val_reg_l2_loss: 0.0629 - val_loss: 0.1348\n",
      "Epoch 56/100\n",
      "80/80 [==============================] - 49s 614ms/step - det_loss: 0.0954 - cls_loss: 0.0727 - box_loss: 4.5397e-04 - reg_l2_loss: 0.0629 - loss: 0.1583 - learning_rate: 0.0051 - gradient_norm: 0.9486 - val_det_loss: 0.0733 - val_cls_loss: 0.0601 - val_box_loss: 2.6460e-04 - val_reg_l2_loss: 0.0629 - val_loss: 0.1362\n",
      "Epoch 57/100\n",
      "80/80 [==============================] - 50s 620ms/step - det_loss: 0.0946 - cls_loss: 0.0710 - box_loss: 4.7315e-04 - reg_l2_loss: 0.0629 - loss: 0.1575 - learning_rate: 0.0049 - gradient_norm: 0.9309 - val_det_loss: 0.0677 - val_cls_loss: 0.0551 - val_box_loss: 2.5330e-04 - val_reg_l2_loss: 0.0629 - val_loss: 0.1306\n",
      "Epoch 58/100\n",
      "80/80 [==============================] - 49s 619ms/step - det_loss: 0.0915 - cls_loss: 0.0694 - box_loss: 4.4268e-04 - reg_l2_loss: 0.0629 - loss: 0.1544 - learning_rate: 0.0047 - gradient_norm: 0.8879 - val_det_loss: 0.0708 - val_cls_loss: 0.0544 - val_box_loss: 3.2815e-04 - val_reg_l2_loss: 0.0628 - val_loss: 0.1337\n",
      "Epoch 59/100\n",
      "80/80 [==============================] - 49s 617ms/step - det_loss: 0.0915 - cls_loss: 0.0699 - box_loss: 4.3125e-04 - reg_l2_loss: 0.0628 - loss: 0.1543 - learning_rate: 0.0045 - gradient_norm: 0.9010 - val_det_loss: 0.0728 - val_cls_loss: 0.0558 - val_box_loss: 3.4011e-04 - val_reg_l2_loss: 0.0628 - val_loss: 0.1356\n",
      "Epoch 60/100\n",
      "80/80 [==============================] - 58s 727ms/step - det_loss: 0.0874 - cls_loss: 0.0667 - box_loss: 4.1344e-04 - reg_l2_loss: 0.0628 - loss: 0.1502 - learning_rate: 0.0043 - gradient_norm: 0.8299 - val_det_loss: 0.0706 - val_cls_loss: 0.0552 - val_box_loss: 3.0766e-04 - val_reg_l2_loss: 0.0628 - val_loss: 0.1334\n",
      "Epoch 61/100\n",
      "80/80 [==============================] - 50s 620ms/step - det_loss: 0.0901 - cls_loss: 0.0677 - box_loss: 4.4829e-04 - reg_l2_loss: 0.0628 - loss: 0.1529 - learning_rate: 0.0041 - gradient_norm: 0.8658 - val_det_loss: 0.0639 - val_cls_loss: 0.0507 - val_box_loss: 2.6329e-04 - val_reg_l2_loss: 0.0628 - val_loss: 0.1267\n",
      "Epoch 62/100\n",
      "80/80 [==============================] - 50s 622ms/step - det_loss: 0.0919 - cls_loss: 0.0702 - box_loss: 4.3466e-04 - reg_l2_loss: 0.0628 - loss: 0.1547 - learning_rate: 0.0039 - gradient_norm: 0.8927 - val_det_loss: 0.0863 - val_cls_loss: 0.0659 - val_box_loss: 4.0836e-04 - val_reg_l2_loss: 0.0628 - val_loss: 0.1491\n",
      "Epoch 63/100\n",
      "80/80 [==============================] - 50s 629ms/step - det_loss: 0.0872 - cls_loss: 0.0669 - box_loss: 4.0432e-04 - reg_l2_loss: 0.0628 - loss: 0.1500 - learning_rate: 0.0037 - gradient_norm: 0.8408 - val_det_loss: 0.0672 - val_cls_loss: 0.0532 - val_box_loss: 2.7900e-04 - val_reg_l2_loss: 0.0628 - val_loss: 0.1300\n",
      "Epoch 64/100\n",
      "80/80 [==============================] - 49s 615ms/step - det_loss: 0.0868 - cls_loss: 0.0667 - box_loss: 4.0213e-04 - reg_l2_loss: 0.0628 - loss: 0.1496 - learning_rate: 0.0036 - gradient_norm: 0.8535 - val_det_loss: 0.0633 - val_cls_loss: 0.0502 - val_box_loss: 2.6076e-04 - val_reg_l2_loss: 0.0628 - val_loss: 0.1260\n",
      "Epoch 65/100\n",
      "80/80 [==============================] - 58s 732ms/step - det_loss: 0.0881 - cls_loss: 0.0670 - box_loss: 4.2203e-04 - reg_l2_loss: 0.0628 - loss: 0.1509 - learning_rate: 0.0034 - gradient_norm: 0.8542 - val_det_loss: 0.0641 - val_cls_loss: 0.0514 - val_box_loss: 2.5356e-04 - val_reg_l2_loss: 0.0628 - val_loss: 0.1268\n",
      "Epoch 66/100\n",
      "80/80 [==============================] - 49s 617ms/step - det_loss: 0.0856 - cls_loss: 0.0660 - box_loss: 3.9259e-04 - reg_l2_loss: 0.0628 - loss: 0.1483 - learning_rate: 0.0032 - gradient_norm: 0.8300 - val_det_loss: 0.0622 - val_cls_loss: 0.0498 - val_box_loss: 2.4717e-04 - val_reg_l2_loss: 0.0628 - val_loss: 0.1250\n",
      "Epoch 67/100\n",
      "80/80 [==============================] - 50s 620ms/step - det_loss: 0.0894 - cls_loss: 0.0675 - box_loss: 4.3697e-04 - reg_l2_loss: 0.0628 - loss: 0.1521 - learning_rate: 0.0030 - gradient_norm: 0.8974 - val_det_loss: 0.0635 - val_cls_loss: 0.0515 - val_box_loss: 2.4035e-04 - val_reg_l2_loss: 0.0627 - val_loss: 0.1263\n",
      "Epoch 68/100\n",
      "80/80 [==============================] - 49s 618ms/step - det_loss: 0.0856 - cls_loss: 0.0657 - box_loss: 3.9711e-04 - reg_l2_loss: 0.0627 - loss: 0.1483 - learning_rate: 0.0029 - gradient_norm: 0.8433 - val_det_loss: 0.0616 - val_cls_loss: 0.0505 - val_box_loss: 2.2342e-04 - val_reg_l2_loss: 0.0627 - val_loss: 0.1244\n",
      "Epoch 69/100\n",
      "80/80 [==============================] - 49s 619ms/step - det_loss: 0.0849 - cls_loss: 0.0651 - box_loss: 3.9564e-04 - reg_l2_loss: 0.0627 - loss: 0.1476 - learning_rate: 0.0027 - gradient_norm: 0.8185 - val_det_loss: 0.0606 - val_cls_loss: 0.0487 - val_box_loss: 2.3741e-04 - val_reg_l2_loss: 0.0627 - val_loss: 0.1233\n",
      "Epoch 70/100\n",
      "80/80 [==============================] - 55s 688ms/step - det_loss: 0.0897 - cls_loss: 0.0674 - box_loss: 4.4638e-04 - reg_l2_loss: 0.0627 - loss: 0.1525 - learning_rate: 0.0025 - gradient_norm: 0.9171 - val_det_loss: 0.0619 - val_cls_loss: 0.0497 - val_box_loss: 2.4482e-04 - val_reg_l2_loss: 0.0627 - val_loss: 0.1246\n",
      "Epoch 71/100\n",
      "80/80 [==============================] - 48s 605ms/step - det_loss: 0.0892 - cls_loss: 0.0680 - box_loss: 4.2360e-04 - reg_l2_loss: 0.0627 - loss: 0.1519 - learning_rate: 0.0024 - gradient_norm: 0.8886 - val_det_loss: 0.0607 - val_cls_loss: 0.0495 - val_box_loss: 2.2405e-04 - val_reg_l2_loss: 0.0627 - val_loss: 0.1234\n",
      "Epoch 72/100\n",
      "80/80 [==============================] - 49s 614ms/step - det_loss: 0.0860 - cls_loss: 0.0653 - box_loss: 4.1521e-04 - reg_l2_loss: 0.0627 - loss: 0.1488 - learning_rate: 0.0022 - gradient_norm: 0.8217 - val_det_loss: 0.0603 - val_cls_loss: 0.0491 - val_box_loss: 2.2300e-04 - val_reg_l2_loss: 0.0627 - val_loss: 0.1230\n",
      "Epoch 73/100\n",
      "80/80 [==============================] - 50s 631ms/step - det_loss: 0.0874 - cls_loss: 0.0661 - box_loss: 4.2627e-04 - reg_l2_loss: 0.0627 - loss: 0.1502 - learning_rate: 0.0021 - gradient_norm: 0.8462 - val_det_loss: 0.0614 - val_cls_loss: 0.0497 - val_box_loss: 2.3442e-04 - val_reg_l2_loss: 0.0627 - val_loss: 0.1241\n",
      "Epoch 74/100\n",
      "80/80 [==============================] - 50s 621ms/step - det_loss: 0.0822 - cls_loss: 0.0633 - box_loss: 3.7775e-04 - reg_l2_loss: 0.0627 - loss: 0.1449 - learning_rate: 0.0019 - gradient_norm: 0.8155 - val_det_loss: 0.0585 - val_cls_loss: 0.0472 - val_box_loss: 2.2502e-04 - val_reg_l2_loss: 0.0627 - val_loss: 0.1212\n",
      "Epoch 75/100\n",
      "80/80 [==============================] - 57s 714ms/step - det_loss: 0.0845 - cls_loss: 0.0641 - box_loss: 4.0823e-04 - reg_l2_loss: 0.0627 - loss: 0.1472 - learning_rate: 0.0018 - gradient_norm: 0.8685 - val_det_loss: 0.0589 - val_cls_loss: 0.0481 - val_box_loss: 2.1658e-04 - val_reg_l2_loss: 0.0627 - val_loss: 0.1216\n",
      "Epoch 76/100\n",
      "80/80 [==============================] - 49s 611ms/step - det_loss: 0.0846 - cls_loss: 0.0648 - box_loss: 3.9444e-04 - reg_l2_loss: 0.0627 - loss: 0.1473 - learning_rate: 0.0017 - gradient_norm: 0.8555 - val_det_loss: 0.0607 - val_cls_loss: 0.0494 - val_box_loss: 2.2773e-04 - val_reg_l2_loss: 0.0627 - val_loss: 0.1234\n",
      "Epoch 77/100\n",
      "80/80 [==============================] - 49s 614ms/step - det_loss: 0.0833 - cls_loss: 0.0637 - box_loss: 3.9187e-04 - reg_l2_loss: 0.0627 - loss: 0.1460 - learning_rate: 0.0015 - gradient_norm: 0.8093 - val_det_loss: 0.0601 - val_cls_loss: 0.0492 - val_box_loss: 2.1625e-04 - val_reg_l2_loss: 0.0627 - val_loss: 0.1227\n",
      "Epoch 78/100\n",
      "80/80 [==============================] - 49s 607ms/step - det_loss: 0.0876 - cls_loss: 0.0654 - box_loss: 4.4223e-04 - reg_l2_loss: 0.0627 - loss: 0.1502 - learning_rate: 0.0014 - gradient_norm: 0.8615 - val_det_loss: 0.0581 - val_cls_loss: 0.0471 - val_box_loss: 2.2000e-04 - val_reg_l2_loss: 0.0627 - val_loss: 0.1208\n",
      "Epoch 79/100\n",
      "80/80 [==============================] - 49s 614ms/step - det_loss: 0.0817 - cls_loss: 0.0635 - box_loss: 3.6382e-04 - reg_l2_loss: 0.0627 - loss: 0.1443 - learning_rate: 0.0013 - gradient_norm: 0.8036 - val_det_loss: 0.0586 - val_cls_loss: 0.0479 - val_box_loss: 2.1372e-04 - val_reg_l2_loss: 0.0627 - val_loss: 0.1213\n",
      "Epoch 80/100\n",
      "80/80 [==============================] - 58s 729ms/step - det_loss: 0.0834 - cls_loss: 0.0641 - box_loss: 3.8564e-04 - reg_l2_loss: 0.0627 - loss: 0.1461 - learning_rate: 0.0012 - gradient_norm: 0.8237 - val_det_loss: 0.0578 - val_cls_loss: 0.0469 - val_box_loss: 2.1722e-04 - val_reg_l2_loss: 0.0627 - val_loss: 0.1204\n",
      "Epoch 81/100\n",
      "80/80 [==============================] - 50s 620ms/step - det_loss: 0.0812 - cls_loss: 0.0624 - box_loss: 3.7499e-04 - reg_l2_loss: 0.0627 - loss: 0.1438 - learning_rate: 0.0010 - gradient_norm: 0.7943 - val_det_loss: 0.0588 - val_cls_loss: 0.0476 - val_box_loss: 2.2401e-04 - val_reg_l2_loss: 0.0627 - val_loss: 0.1215\n",
      "Epoch 82/100\n",
      "80/80 [==============================] - 49s 612ms/step - det_loss: 0.0805 - cls_loss: 0.0626 - box_loss: 3.5837e-04 - reg_l2_loss: 0.0627 - loss: 0.1432 - learning_rate: 9.3946e-04 - gradient_norm: 0.7956 - val_det_loss: 0.0584 - val_cls_loss: 0.0475 - val_box_loss: 2.1678e-04 - val_reg_l2_loss: 0.0627 - val_loss: 0.1210\n",
      "Epoch 83/100\n",
      "80/80 [==============================] - 50s 619ms/step - det_loss: 0.0819 - cls_loss: 0.0630 - box_loss: 3.7883e-04 - reg_l2_loss: 0.0627 - loss: 0.1446 - learning_rate: 8.3759e-04 - gradient_norm: 0.8057 - val_det_loss: 0.0582 - val_cls_loss: 0.0475 - val_box_loss: 2.1589e-04 - val_reg_l2_loss: 0.0627 - val_loss: 0.1209\n",
      "Epoch 84/100\n",
      "80/80 [==============================] - 49s 618ms/step - det_loss: 0.0848 - cls_loss: 0.0643 - box_loss: 4.0983e-04 - reg_l2_loss: 0.0627 - loss: 0.1474 - learning_rate: 7.4117e-04 - gradient_norm: 0.8098 - val_det_loss: 0.0572 - val_cls_loss: 0.0465 - val_box_loss: 2.1499e-04 - val_reg_l2_loss: 0.0627 - val_loss: 0.1199\n",
      "Epoch 85/100\n",
      "80/80 [==============================] - 58s 728ms/step - det_loss: 0.0818 - cls_loss: 0.0624 - box_loss: 3.8778e-04 - reg_l2_loss: 0.0627 - loss: 0.1445 - learning_rate: 6.5029e-04 - gradient_norm: 0.8114 - val_det_loss: 0.0571 - val_cls_loss: 0.0465 - val_box_loss: 2.1164e-04 - val_reg_l2_loss: 0.0627 - val_loss: 0.1197\n",
      "Epoch 86/100\n",
      "80/80 [==============================] - 50s 630ms/step - det_loss: 0.0837 - cls_loss: 0.0639 - box_loss: 3.9669e-04 - reg_l2_loss: 0.0627 - loss: 0.1464 - learning_rate: 5.6506e-04 - gradient_norm: 0.8365 - val_det_loss: 0.0569 - val_cls_loss: 0.0464 - val_box_loss: 2.0987e-04 - val_reg_l2_loss: 0.0627 - val_loss: 0.1196\n",
      "Epoch 87/100\n",
      "80/80 [==============================] - 49s 618ms/step - det_loss: 0.0810 - cls_loss: 0.0628 - box_loss: 3.6318e-04 - reg_l2_loss: 0.0627 - loss: 0.1436 - learning_rate: 4.8554e-04 - gradient_norm: 0.7944 - val_det_loss: 0.0572 - val_cls_loss: 0.0468 - val_box_loss: 2.0939e-04 - val_reg_l2_loss: 0.0627 - val_loss: 0.1199\n",
      "Epoch 88/100\n",
      "80/80 [==============================] - 49s 615ms/step - det_loss: 0.0794 - cls_loss: 0.0621 - box_loss: 3.4508e-04 - reg_l2_loss: 0.0627 - loss: 0.1420 - learning_rate: 4.1184e-04 - gradient_norm: 0.7884 - val_det_loss: 0.0577 - val_cls_loss: 0.0470 - val_box_loss: 2.1498e-04 - val_reg_l2_loss: 0.0627 - val_loss: 0.1204\n",
      "Epoch 89/100\n",
      "80/80 [==============================] - 50s 622ms/step - det_loss: 0.0776 - cls_loss: 0.0608 - box_loss: 3.3609e-04 - reg_l2_loss: 0.0626 - loss: 0.1403 - learning_rate: 3.4401e-04 - gradient_norm: 0.7691 - val_det_loss: 0.0573 - val_cls_loss: 0.0467 - val_box_loss: 2.1130e-04 - val_reg_l2_loss: 0.0626 - val_loss: 0.1199\n",
      "Epoch 90/100\n",
      "80/80 [==============================] - 57s 720ms/step - det_loss: 0.0838 - cls_loss: 0.0640 - box_loss: 3.9542e-04 - reg_l2_loss: 0.0626 - loss: 0.1464 - learning_rate: 2.8213e-04 - gradient_norm: 0.8263 - val_det_loss: 0.0578 - val_cls_loss: 0.0471 - val_box_loss: 2.1414e-04 - val_reg_l2_loss: 0.0626 - val_loss: 0.1204\n",
      "Epoch 91/100\n",
      "80/80 [==============================] - 49s 619ms/step - det_loss: 0.0808 - cls_loss: 0.0627 - box_loss: 3.6197e-04 - reg_l2_loss: 0.0626 - loss: 0.1434 - learning_rate: 2.2625e-04 - gradient_norm: 0.8205 - val_det_loss: 0.0577 - val_cls_loss: 0.0469 - val_box_loss: 2.1540e-04 - val_reg_l2_loss: 0.0626 - val_loss: 0.1203\n",
      "Epoch 92/100\n",
      "80/80 [==============================] - 50s 620ms/step - det_loss: 0.0822 - cls_loss: 0.0636 - box_loss: 3.7278e-04 - reg_l2_loss: 0.0626 - loss: 0.1449 - learning_rate: 1.7645e-04 - gradient_norm: 0.8057 - val_det_loss: 0.0579 - val_cls_loss: 0.0472 - val_box_loss: 2.1334e-04 - val_reg_l2_loss: 0.0626 - val_loss: 0.1206\n",
      "Epoch 93/100\n",
      "80/80 [==============================] - 50s 624ms/step - det_loss: 0.0815 - cls_loss: 0.0625 - box_loss: 3.7872e-04 - reg_l2_loss: 0.0626 - loss: 0.1441 - learning_rate: 1.3275e-04 - gradient_norm: 0.8158 - val_det_loss: 0.0578 - val_cls_loss: 0.0472 - val_box_loss: 2.1228e-04 - val_reg_l2_loss: 0.0626 - val_loss: 0.1204\n",
      "Epoch 94/100\n",
      "80/80 [==============================] - 49s 616ms/step - det_loss: 0.0824 - cls_loss: 0.0629 - box_loss: 3.9150e-04 - reg_l2_loss: 0.0626 - loss: 0.1451 - learning_rate: 9.5221e-05 - gradient_norm: 0.7892 - val_det_loss: 0.0576 - val_cls_loss: 0.0470 - val_box_loss: 2.1249e-04 - val_reg_l2_loss: 0.0626 - val_loss: 0.1203\n",
      "Epoch 95/100\n",
      "80/80 [==============================] - 57s 719ms/step - det_loss: 0.0822 - cls_loss: 0.0630 - box_loss: 3.8496e-04 - reg_l2_loss: 0.0626 - loss: 0.1449 - learning_rate: 6.3886e-05 - gradient_norm: 0.7961 - val_det_loss: 0.0576 - val_cls_loss: 0.0469 - val_box_loss: 2.1394e-04 - val_reg_l2_loss: 0.0626 - val_loss: 0.1203\n",
      "Epoch 96/100\n",
      "80/80 [==============================] - 50s 621ms/step - det_loss: 0.0847 - cls_loss: 0.0652 - box_loss: 3.8899e-04 - reg_l2_loss: 0.0626 - loss: 0.1473 - learning_rate: 3.8780e-05 - gradient_norm: 0.8790 - val_det_loss: 0.0575 - val_cls_loss: 0.0468 - val_box_loss: 2.1308e-04 - val_reg_l2_loss: 0.0626 - val_loss: 0.1201\n",
      "Epoch 97/100\n",
      "80/80 [==============================] - 49s 618ms/step - det_loss: 0.0824 - cls_loss: 0.0629 - box_loss: 3.9038e-04 - reg_l2_loss: 0.0626 - loss: 0.1451 - learning_rate: 1.9927e-05 - gradient_norm: 0.7941 - val_det_loss: 0.0574 - val_cls_loss: 0.0468 - val_box_loss: 2.1190e-04 - val_reg_l2_loss: 0.0626 - val_loss: 0.1201\n",
      "Epoch 98/100\n",
      "80/80 [==============================] - 50s 620ms/step - det_loss: 0.0802 - cls_loss: 0.0624 - box_loss: 3.5651e-04 - reg_l2_loss: 0.0626 - loss: 0.1428 - learning_rate: 7.3486e-06 - gradient_norm: 0.7799 - val_det_loss: 0.0574 - val_cls_loss: 0.0468 - val_box_loss: 2.1188e-04 - val_reg_l2_loss: 0.0626 - val_loss: 0.1201\n",
      "Epoch 99/100\n",
      "80/80 [==============================] - 48s 604ms/step - det_loss: 0.0801 - cls_loss: 0.0622 - box_loss: 3.5785e-04 - reg_l2_loss: 0.0626 - loss: 0.1427 - learning_rate: 1.0555e-06 - gradient_norm: 0.7908 - val_det_loss: 0.0575 - val_cls_loss: 0.0469 - val_box_loss: 2.1121e-04 - val_reg_l2_loss: 0.0626 - val_loss: 0.1201\n",
      "Epoch 100/100\n",
      "80/80 [==============================] - 59s 745ms/step - det_loss: 0.0816 - cls_loss: 0.0626 - box_loss: 3.8094e-04 - reg_l2_loss: 0.0626 - loss: 0.1443 - learning_rate: 1.0545e-06 - gradient_norm: 0.7837 - val_det_loss: 0.0575 - val_cls_loss: 0.0469 - val_box_loss: 2.1082e-04 - val_reg_l2_loss: 0.0626 - val_loss: 0.1201\n"
     ]
    }
   ],
   "source": [
    "model = object_detector.create(train_data, model_spec=spec, batch_size=10, train_whole_model=True, epochs=100, validation_data=val_data)"
   ]
  },
  {
   "cell_type": "markdown",
   "metadata": {
    "id": "KB4hKeerMmh4"
   },
   "source": [
    "### Step 4. Evaluate the model with the validation data.\n",
    "\n",
    "After training the object detection model using the images in the training dataset, the 200 images in the validation dataset to is used evaluate how the model performs against new data it has never seen before."
   ]
  },
  {
   "cell_type": "code",
   "execution_count": 12,
   "metadata": {
    "colab": {
     "base_uri": "https://localhost:8080/"
    },
    "execution": {
     "iopub.execute_input": "2022-04-27T11:51:57.519096Z",
     "iopub.status.busy": "2022-04-27T11:51:57.518771Z",
     "iopub.status.idle": "2022-04-27T11:52:37.231056Z",
     "shell.execute_reply": "2022-04-27T11:52:37.228402Z",
     "shell.execute_reply.started": "2022-04-27T11:51:57.519063Z"
    },
    "id": "OUqEpcYwAg8L",
    "outputId": "70c4cad6-1223-48a9-c05f-4bcda89861ad"
   },
   "outputs": [
    {
     "name": "stdout",
     "output_type": "stream",
     "text": [
      "4/4 [==============================] - 34s 3s/step\n",
      "\n"
     ]
    },
    {
     "data": {
      "text/plain": [
       "{'AP': 0.9485948,\n",
       " 'AP50': 0.99998766,\n",
       " 'AP75': 0.99685,\n",
       " 'APs': 0.6,\n",
       " 'APm': 0.9517487,\n",
       " 'APl': 0.9475975,\n",
       " 'ARmax1': 0.6342972,\n",
       " 'ARmax10': 0.9752321,\n",
       " 'ARmax100': 0.97695434,\n",
       " 'ARs': 0.8,\n",
       " 'ARm': 0.9773855,\n",
       " 'ARl': 0.98198515,\n",
       " 'AP_/chicken': 0.9431832,\n",
       " 'AP_/ketchup_portion': 0.950431,\n",
       " 'AP_/ketchup_bottle': 0.94172096,\n",
       " 'AP_/potatoe_fries': 0.95777166,\n",
       " 'AP_/empty_plate': 0.9498673}"
      ]
     },
     "execution_count": 12,
     "metadata": {},
     "output_type": "execute_result"
    }
   ],
   "source": [
    "model.evaluate(val_data)"
   ]
  },
  {
   "cell_type": "markdown",
   "metadata": {
    "id": "NARVYk9rGLIl"
   },
   "source": [
    "### Step 5: Export Model as a TensorFlow Lite model."
   ]
  },
  {
   "cell_type": "code",
   "execution_count": 13,
   "metadata": {
    "execution": {
     "iopub.execute_input": "2022-04-27T11:52:37.255053Z",
     "iopub.status.busy": "2022-04-27T11:52:37.254774Z",
     "iopub.status.idle": "2022-04-27T11:52:37.263017Z",
     "shell.execute_reply": "2022-04-27T11:52:37.262109Z",
     "shell.execute_reply.started": "2022-04-27T11:52:37.255026Z"
    },
    "id": "7B5nRDdwJm2l"
   },
   "outputs": [],
   "source": [
    "save_path = '/notebooks/models/model_final_001.tflite' # batch = 10; epochs = 100 architecture = efficientdet_lite0"
   ]
  },
  {
   "cell_type": "code",
   "execution_count": 16,
   "metadata": {
    "execution": {
     "iopub.execute_input": "2022-04-27T12:01:00.771203Z",
     "iopub.status.busy": "2022-04-27T12:01:00.770614Z",
     "iopub.status.idle": "2022-04-27T12:05:01.948294Z",
     "shell.execute_reply": "2022-04-27T12:05:01.947280Z",
     "shell.execute_reply.started": "2022-04-27T12:01:00.771173Z"
    },
    "id": "_u3eFxoBAiqE"
   },
   "outputs": [
    {
     "name": "stderr",
     "output_type": "stream",
     "text": [
      "2022-04-27 12:01:47.599926: W tensorflow/core/common_runtime/graph_constructor.cc:803] Node 'resample_p7/PartitionedCall' has 1 outputs but the _output_shapes attribute specifies shapes for 3 outputs. Output shapes may be inaccurate.\n",
      "2022-04-27 12:02:07.165753: W tensorflow/compiler/mlir/lite/python/tf_tfl_flatbuffer_helpers.cc:363] Ignored output_format.\n",
      "2022-04-27 12:02:07.165815: W tensorflow/compiler/mlir/lite/python/tf_tfl_flatbuffer_helpers.cc:366] Ignored drop_control_dependency.\n",
      "2022-04-27 12:02:07.165824: W tensorflow/compiler/mlir/lite/python/tf_tfl_flatbuffer_helpers.cc:372] Ignored change_concat_input_ranges.\n",
      "2022-04-27 12:02:07.166093: I tensorflow/cc/saved_model/reader.cc:43] Reading SavedModel from: /tmp/tmp8gk8g9pe\n",
      "2022-04-27 12:02:07.295198: I tensorflow/cc/saved_model/reader.cc:107] Reading meta graph with tags { serve }\n",
      "2022-04-27 12:02:07.295270: I tensorflow/cc/saved_model/reader.cc:148] Reading SavedModel debug info (if present) from: /tmp/tmp8gk8g9pe\n",
      "2022-04-27 12:02:07.841553: I tensorflow/cc/saved_model/loader.cc:212] Restoring SavedModel bundle.\n",
      "2022-04-27 12:02:11.609031: I tensorflow/cc/saved_model/loader.cc:196] Running initialization op on SavedModel bundle at path: /tmp/tmp8gk8g9pe\n",
      "2022-04-27 12:02:13.098805: I tensorflow/cc/saved_model/loader.cc:303] SavedModel load for tags { serve }; Status: success: OK. Took 5932713 microseconds.\n",
      "2022-04-27 12:02:18.467024: I tensorflow/compiler/mlir/lite/flatbuffer_export.cc:1962] Estimated count of arithmetic ops: 1.763 G  ops, equivalently 0.882 G  MACs\n",
      "\n",
      "fully_quantize: 0, inference_type: 6, input_inference_type: 3, output_inference_type: 0\n",
      "2022-04-27 12:05:00.509407: I tensorflow/compiler/mlir/lite/flatbuffer_export.cc:1962] Estimated count of arithmetic ops: 1.763 G  ops, equivalently 0.882 G  MACs\n",
      "\n"
     ]
    }
   ],
   "source": [
    "model.export(export_dir='.', tflite_filename=save_path)"
   ]
  },
  {
   "cell_type": "markdown",
   "metadata": {
    "id": "JZcBmEigOCO3"
   },
   "source": [
    "### Step 6:  Evaluate the TensorFlow Lite model."
   ]
  },
  {
   "cell_type": "code",
   "execution_count": 17,
   "metadata": {
    "colab": {
     "base_uri": "https://localhost:8080/"
    },
    "execution": {
     "iopub.execute_input": "2022-04-27T12:05:12.794060Z",
     "iopub.status.busy": "2022-04-27T12:05:12.793722Z",
     "iopub.status.idle": "2022-04-27T12:06:08.522422Z",
     "shell.execute_reply": "2022-04-27T12:06:08.521572Z",
     "shell.execute_reply.started": "2022-04-27T12:05:12.794025Z"
    },
    "id": "hlfgsVHXflW5",
    "outputId": "9591e2f8-6d4e-43dd-e9ec-3e659e6c99ac"
   },
   "outputs": [
    {
     "name": "stdout",
     "output_type": "stream",
     "text": [
      "200/200 [==============================] - 53s 262ms/step\n",
      "\n"
     ]
    },
    {
     "data": {
      "text/plain": [
       "{'AP': 0.9257386,\n",
       " 'AP50': 0.9999938,\n",
       " 'AP75': 0.99405324,\n",
       " 'APs': 0.5,\n",
       " 'APm': 0.92787063,\n",
       " 'APl': 0.91948605,\n",
       " 'ARmax1': 0.62671506,\n",
       " 'ARmax10': 0.9444964,\n",
       " 'ARmax100': 0.9444964,\n",
       " 'ARs': 0.5,\n",
       " 'ARm': 0.9476396,\n",
       " 'ARl': 0.940411,\n",
       " 'AP_/chicken': 0.92176294,\n",
       " 'AP_/ketchup_portion': 0.9301149,\n",
       " 'AP_/ketchup_bottle': 0.9151669,\n",
       " 'AP_/potatoe_fries': 0.93427163,\n",
       " 'AP_/empty_plate': 0.9273764}"
      ]
     },
     "execution_count": 17,
     "metadata": {},
     "output_type": "execute_result"
    }
   ],
   "source": [
    "model.evaluate_tflite(save_path, val_data)"
   ]
  }
 ],
 "metadata": {
  "accelerator": "GPU",
  "colab": {
   "collapsed_sections": [
    "RWP3fEPaGNvd"
   ],
   "name": "Capstone 2022 - Model Training Larkuo",
   "provenance": []
  },
  "kernelspec": {
   "display_name": "Python 3 (ipykernel)",
   "language": "python",
   "name": "python3"
  },
  "language_info": {
   "codemirror_mode": {
    "name": "ipython",
    "version": 3
   },
   "file_extension": ".py",
   "mimetype": "text/x-python",
   "name": "python",
   "nbconvert_exporter": "python",
   "pygments_lexer": "ipython3",
   "version": "3.8.10"
  }
 },
 "nbformat": 4,
 "nbformat_minor": 4
}
