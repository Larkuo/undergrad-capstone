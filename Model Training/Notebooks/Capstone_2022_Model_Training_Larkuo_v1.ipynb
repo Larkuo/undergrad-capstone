{
 "cells": [
  {
   "cell_type": "markdown",
   "metadata": {},
   "source": [
    "## **Section 1 - Taking & Labelling the Images**\n",
    "\n",
    "Using a USB Camera and Laptop, 1000 images were taken in batches of 5 or 10 at a time.\n",
    "Changes in the image frames were made by varying\n",
    "\n",
    "*   Object Orientation\n",
    "*   Lighting\n",
    "*   Object Position\n",
    "*   Object Distance away from the camera\n",
    "*   and the objects being in and out of the frame\n",
    "\n",
    "Images taken were sized 640x320 (2:1) to rereduce memory usage especially while training the model later in this notebook\n",
    "\n",
    "After images were obtained, they were labeled using [labelImg](https://github.com/tzutalin/labelImg) a graphical python tool for annorating images. \n",
    "\n",
    "The object classes used for labelling are:\n",
    "1.   potatoe_fries\n",
    "2.   chicken\n",
    "3.   empty_plate\n",
    "4.   ketchup_portion\n",
    "5.   ketchup_bottle\n",
    "\n",
    "The images were then randomized and split into an 80:20 ratio for training and validation/evaluating the model.\n",
    "The images and labels/annotation files can be found [HERE](https://drive.google.com/drive/folders/1-PQKmn6JBVB2q4mw21Muee8vS3BoCkYE?usp=sharing)"
   ]
  },
  {
   "cell_type": "markdown",
   "metadata": {
    "id": "BRYjtwRZGBOI"
   },
   "source": [
    "## **Section 2 - Preparation**\n",
    "\n",
    "\n",
    "Installing the required packages, including the Model Maker package from the [GitHub repo](https://github.com/tensorflow/examples/tree/master/tensorflow_examples/lite/model_maker) and the pycocotools library to be used for model evaluation.\n",
    "\n",
    "Importing the installed packages"
   ]
  },
  {
   "cell_type": "code",
   "execution_count": 3,
   "metadata": {
    "execution": {
     "iopub.execute_input": "2022-04-25T15:18:24.825311Z",
     "iopub.status.busy": "2022-04-25T15:18:24.824945Z",
     "iopub.status.idle": "2022-04-25T15:18:30.436321Z",
     "shell.execute_reply": "2022-04-25T15:18:30.435530Z",
     "shell.execute_reply.started": "2022-04-25T15:18:24.825274Z"
    }
   },
   "outputs": [
    {
     "name": "stdout",
     "output_type": "stream",
     "text": [
      "Hit:1 http://archive.ubuntu.com/ubuntu focal InRelease\n",
      "Hit:2 http://archive.ubuntu.com/ubuntu focal-updates InRelease\n",
      "Hit:3 http://archive.ubuntu.com/ubuntu focal-backports InRelease\n",
      "Hit:4 http://security.ubuntu.com/ubuntu focal-security InRelease\n",
      "Reading package lists... Done                          \n",
      "Requirement already satisfied: pip in /usr/local/lib/python3.8/dist-packages (22.0.4)\n",
      "\u001b[33mWARNING: Running pip as the 'root' user can result in broken permissions and conflicting behaviour with the system package manager. It is recommended to use a virtual environment instead: https://pip.pypa.io/warnings/venv\u001b[0m\u001b[33m\n",
      "\u001b[0m"
     ]
    }
   ],
   "source": [
    "!apt-get update\n",
    "!python -m pip install --upgrade pip"
   ]
  },
  {
   "cell_type": "code",
   "execution_count": 4,
   "metadata": {
    "execution": {
     "iopub.execute_input": "2022-04-25T15:18:34.144491Z",
     "iopub.status.busy": "2022-04-25T15:18:34.144131Z",
     "iopub.status.idle": "2022-04-25T15:18:46.809979Z",
     "shell.execute_reply": "2022-04-25T15:18:46.809156Z",
     "shell.execute_reply.started": "2022-04-25T15:18:34.144420Z"
    },
    "id": "35BJmtVpAP_n"
   },
   "outputs": [
    {
     "name": "stdout",
     "output_type": "stream",
     "text": [
      "Requirement already satisfied: numba in /usr/local/lib/python3.8/dist-packages (0.53.0)\n",
      "Requirement already satisfied: numpy>=1.15 in /usr/local/lib/python3.8/dist-packages (from numba) (1.19.4)\n",
      "Requirement already satisfied: setuptools in /usr/local/lib/python3.8/dist-packages (from numba) (59.4.0)\n",
      "Requirement already satisfied: llvmlite<0.37,>=0.36.0rc1 in /usr/local/lib/python3.8/dist-packages (from numba) (0.36.0)\n",
      "\u001b[33mWARNING: Running pip as the 'root' user can result in broken permissions and conflicting behaviour with the system package manager. It is recommended to use a virtual environment instead: https://pip.pypa.io/warnings/venv\u001b[0m\u001b[33m\n",
      "\u001b[0m\u001b[33mWARNING: Running pip as the 'root' user can result in broken permissions and conflicting behaviour with the system package manager. It is recommended to use a virtual environment instead: https://pip.pypa.io/warnings/venv\u001b[0m\u001b[33m\n",
      "\u001b[0m\u001b[33mWARNING: Running pip as the 'root' user can result in broken permissions and conflicting behaviour with the system package manager. It is recommended to use a virtual environment instead: https://pip.pypa.io/warnings/venv\u001b[0m\u001b[33m\n",
      "\u001b[0mRequirement already satisfied: pycocotools in /usr/local/lib/python3.8/dist-packages (2.0.4)\n",
      "Requirement already satisfied: numpy in /usr/local/lib/python3.8/dist-packages (from pycocotools) (1.19.4)\n",
      "Requirement already satisfied: matplotlib>=2.1.0 in /usr/local/lib/python3.8/dist-packages (from pycocotools) (3.4.3)\n",
      "Requirement already satisfied: cycler>=0.10 in /usr/local/lib/python3.8/dist-packages (from matplotlib>=2.1.0->pycocotools) (0.11.0)\n",
      "Requirement already satisfied: pyparsing>=2.2.1 in /usr/local/lib/python3.8/dist-packages (from matplotlib>=2.1.0->pycocotools) (3.0.7)\n",
      "Requirement already satisfied: python-dateutil>=2.7 in /usr/local/lib/python3.8/dist-packages (from matplotlib>=2.1.0->pycocotools) (2.8.2)\n",
      "Requirement already satisfied: kiwisolver>=1.0.1 in /usr/local/lib/python3.8/dist-packages (from matplotlib>=2.1.0->pycocotools) (1.3.2)\n",
      "Requirement already satisfied: pillow>=6.2.0 in /usr/local/lib/python3.8/dist-packages (from matplotlib>=2.1.0->pycocotools) (9.0.1)\n",
      "Requirement already satisfied: six>=1.5 in /usr/local/lib/python3.8/dist-packages (from python-dateutil>=2.7->matplotlib>=2.1.0->pycocotools) (1.15.0)\n",
      "\u001b[33mWARNING: Running pip as the 'root' user can result in broken permissions and conflicting behaviour with the system package manager. It is recommended to use a virtual environment instead: https://pip.pypa.io/warnings/venv\u001b[0m\u001b[33m\n",
      "\u001b[0m"
     ]
    }
   ],
   "source": [
    "!pip install numba\n",
    "!pip install -q tflite-model-maker\n",
    "!pip install -q tflite-support\n",
    "!pip install pycocotools"
   ]
  },
  {
   "cell_type": "markdown",
   "metadata": {
    "id": "prQ86DdtD317"
   },
   "source": [
    "Import the required packages."
   ]
  },
  {
   "cell_type": "code",
   "execution_count": 5,
   "metadata": {
    "execution": {
     "iopub.execute_input": "2022-04-25T15:18:54.560039Z",
     "iopub.status.busy": "2022-04-25T15:18:54.559698Z",
     "iopub.status.idle": "2022-04-25T15:18:59.137353Z",
     "shell.execute_reply": "2022-04-25T15:18:59.136191Z",
     "shell.execute_reply.started": "2022-04-25T15:18:54.560008Z"
    },
    "id": "l4QQTXHHATDS"
   },
   "outputs": [],
   "source": [
    "import numpy as np\n",
    "import os\n",
    "\n",
    "from tflite_model_maker.config import ExportFormat, QuantizationConfig\n",
    "from tflite_model_maker import model_spec\n",
    "from tflite_model_maker import object_detector\n",
    "\n",
    "from tflite_support import metadata\n",
    "\n",
    "import tensorflow as tf\n",
    "assert tf.__version__.startswith('2')\n",
    "\n",
    "tf.get_logger().setLevel('ERROR')\n",
    "from absl import logging\n",
    "logging.set_verbosity(logging.ERROR)"
   ]
  },
  {
   "cell_type": "markdown",
   "metadata": {
    "id": "YsmeF8n08IeJ"
   },
   "source": [
    "## **Section 3 - Training the Model**"
   ]
  },
  {
   "cell_type": "markdown",
   "metadata": {
    "id": "Yxh3KInCFeB-"
   },
   "source": [
    "### Step 1: Load the dataset\n",
    "\n",
    "* Images in `train_data` is used to train the object detection model.\n",
    "* Images in `val_data` is used to evaluate and check if the model can generalize/predict well to new images that it hasn't seen before."
   ]
  },
  {
   "cell_type": "code",
   "execution_count": 6,
   "metadata": {
    "execution": {
     "iopub.execute_input": "2022-04-25T15:19:02.010310Z",
     "iopub.status.busy": "2022-04-25T15:19:02.009969Z",
     "iopub.status.idle": "2022-04-25T15:19:09.864163Z",
     "shell.execute_reply": "2022-04-25T15:19:09.863127Z",
     "shell.execute_reply.started": "2022-04-25T15:19:02.010274Z"
    },
    "id": "WiAahdsQAdT7"
   },
   "outputs": [],
   "source": [
    "train_data = object_detector.DataLoader.from_pascal_voc(\n",
    "    '/notebooks/train',\n",
    "    '/notebooks/train',\n",
    "    ['chicken','ketchup_portion', 'ketchup_bottle', 'potatoe_fries', 'empty_plate']\n",
    ")\n",
    "\n",
    "val_data = object_detector.DataLoader.from_pascal_voc(\n",
    "    '/notebooks/validate',\n",
    "    '/notebooks/validate',\n",
    "    ['chicken','ketchup_portion', 'ketchup_bottle', 'potatoe_fries', 'empty_plate']\n",
    ")"
   ]
  },
  {
   "cell_type": "code",
   "execution_count": 5,
   "metadata": {
    "colab": {
     "base_uri": "https://localhost:8080/"
    },
    "execution": {
     "iopub.execute_input": "2022-04-25T11:23:05.481751Z",
     "iopub.status.busy": "2022-04-25T11:23:05.481565Z",
     "iopub.status.idle": "2022-04-25T11:23:05.489746Z",
     "shell.execute_reply": "2022-04-25T11:23:05.488775Z",
     "shell.execute_reply.started": "2022-04-25T11:23:05.481728Z"
    },
    "id": "Pxiy0rvUAooG",
    "outputId": "71029c64-50e3-40fe-f9d3-2ca82dbe99c5"
   },
   "outputs": [
    {
     "data": {
      "text/plain": [
       "800"
      ]
     },
     "execution_count": 5,
     "metadata": {},
     "output_type": "execute_result"
    }
   ],
   "source": [
    "len(train_data)"
   ]
  },
  {
   "cell_type": "code",
   "execution_count": 6,
   "metadata": {
    "colab": {
     "base_uri": "https://localhost:8080/"
    },
    "execution": {
     "iopub.execute_input": "2022-04-25T11:23:05.491198Z",
     "iopub.status.busy": "2022-04-25T11:23:05.491023Z",
     "iopub.status.idle": "2022-04-25T11:23:05.497295Z",
     "shell.execute_reply": "2022-04-25T11:23:05.496489Z",
     "shell.execute_reply.started": "2022-04-25T11:23:05.491175Z"
    },
    "id": "opn29kweBIt6",
    "outputId": "2b31c32f-c5d3-4826-c2f0-1b3a29785d60"
   },
   "outputs": [
    {
     "data": {
      "text/plain": [
       "200"
      ]
     },
     "execution_count": 6,
     "metadata": {},
     "output_type": "execute_result"
    }
   ],
   "source": [
    "len(val_data)"
   ]
  },
  {
   "cell_type": "markdown",
   "metadata": {
    "id": "UNRhB8N7GHXj"
   },
   "source": [
    "### Step 2: Select a model architecture\n",
    "\n",
    "EfficientDet-Lite[0-4] are a family of mobile/IoT-friendly object detection models derived from the [EfficientDet](https://arxiv.org/abs/1911.09070) architecture.\n",
    "\n",
    "The performance of each EfficientDet-Lite model compared to others is shown in the table below.\n",
    "\n",
    "| Model architecture | Size(MB)* | Latency(ms)** | Average Precision*** |\n",
    "|--------------------|-----------|---------------|----------------------|\n",
    "| EfficientDet-Lite0 | 4.4       | 146           | 25.69%               |\n",
    "| EfficientDet-Lite1 | 5.8       | 259           | 30.55%               |\n",
    "| EfficientDet-Lite2 | 7.2       | 396           | 33.97%               |\n",
    "| EfficientDet-Lite3 | 11.4      | 716           | 37.70%               |\n",
    "| EfficientDet-Lite4 | 19.9      | 1886          | 41.96%               |\n",
    "\n",
    "<i> * Size of the integer quantized models. <br/>\n",
    "** Latency measured on Raspberry Pi 4 using 4 threads on CPU. <br/>\n",
    "*** Average Precision is the mAP (mean Average Precision) on the COCO 2017 validation dataset.\n",
    "</i>\n"
   ]
  },
  {
   "cell_type": "markdown",
   "metadata": {
    "id": "xA-y0JbMNDGj"
   },
   "source": [
    "## **Architecture: EfficientDet-Lite0**"
   ]
  },
  {
   "cell_type": "code",
   "execution_count": 6,
   "metadata": {
    "execution": {
     "iopub.execute_input": "2022-04-25T09:51:42.818793Z",
     "iopub.status.busy": "2022-04-25T09:51:42.818554Z",
     "iopub.status.idle": "2022-04-25T09:51:43.646970Z",
     "shell.execute_reply": "2022-04-25T09:51:43.646056Z",
     "shell.execute_reply.started": "2022-04-25T09:51:42.818769Z"
    },
    "id": "GZOojrDHAY1J"
   },
   "outputs": [
    {
     "name": "stderr",
     "output_type": "stream",
     "text": [
      "2022-04-25 09:51:42.874335: I tensorflow/stream_executor/cuda/cuda_gpu_executor.cc:1052] successful NUMA node read from SysFS had negative value (-1), but there must be at least one NUMA node, so returning NUMA node zero\n",
      "2022-04-25 09:51:42.918447: I tensorflow/stream_executor/cuda/cuda_gpu_executor.cc:1052] successful NUMA node read from SysFS had negative value (-1), but there must be at least one NUMA node, so returning NUMA node zero\n",
      "2022-04-25 09:51:42.918885: I tensorflow/stream_executor/cuda/cuda_gpu_executor.cc:1052] successful NUMA node read from SysFS had negative value (-1), but there must be at least one NUMA node, so returning NUMA node zero\n",
      "2022-04-25 09:51:42.926167: I tensorflow/stream_executor/cuda/cuda_gpu_executor.cc:1052] successful NUMA node read from SysFS had negative value (-1), but there must be at least one NUMA node, so returning NUMA node zero\n",
      "2022-04-25 09:51:42.926649: I tensorflow/stream_executor/cuda/cuda_gpu_executor.cc:1052] successful NUMA node read from SysFS had negative value (-1), but there must be at least one NUMA node, so returning NUMA node zero\n",
      "2022-04-25 09:51:42.927031: I tensorflow/stream_executor/cuda/cuda_gpu_executor.cc:1052] successful NUMA node read from SysFS had negative value (-1), but there must be at least one NUMA node, so returning NUMA node zero\n",
      "2022-04-25 09:51:43.640348: I tensorflow/stream_executor/cuda/cuda_gpu_executor.cc:1052] successful NUMA node read from SysFS had negative value (-1), but there must be at least one NUMA node, so returning NUMA node zero\n",
      "2022-04-25 09:51:43.640635: I tensorflow/stream_executor/cuda/cuda_gpu_executor.cc:1052] successful NUMA node read from SysFS had negative value (-1), but there must be at least one NUMA node, so returning NUMA node zero\n",
      "2022-04-25 09:51:43.640918: I tensorflow/stream_executor/cuda/cuda_gpu_executor.cc:1052] successful NUMA node read from SysFS had negative value (-1), but there must be at least one NUMA node, so returning NUMA node zero\n",
      "2022-04-25 09:51:43.641112: I tensorflow/core/common_runtime/gpu/gpu_device.cc:1525] Created device /job:localhost/replica:0/task:0/device:GPU:0 with 7276 MB memory:  -> device: 0, name: Quadro M4000, pci bus id: 0000:00:05.0, compute capability: 5.2\n"
     ]
    }
   ],
   "source": [
    "spec = model_spec.get('efficientdet_lite0')"
   ]
  },
  {
   "cell_type": "markdown",
   "metadata": {
    "id": "5aeDU4mIM4ft"
   },
   "source": [
    "### Step 3: Train the TensorFlow model with the training data.\n",
    "\n",
    "* Set `epochs = 50`, which means it will go through the training dataset 50 times. You can look at the validation accuracy during training and stop when you see validation loss (`val_loss`) stop decreasing to avoid overfitting.\n",
    "* Set `batch_size = 5` which takes 200 steps to go through the 800 images in the training dataset for each epoch.\n",
    "* Set `train_whole_model=True` to fine-tune the whole model instead of just training the head layer to improve accuracy."
   ]
  },
  {
   "cell_type": "code",
   "execution_count": 7,
   "metadata": {
    "colab": {
     "base_uri": "https://localhost:8080/"
    },
    "execution": {
     "iopub.execute_input": "2022-04-25T09:51:51.787485Z",
     "iopub.status.busy": "2022-04-25T09:51:51.787249Z",
     "iopub.status.idle": "2022-04-25T10:38:28.735423Z",
     "shell.execute_reply": "2022-04-25T10:38:28.734381Z",
     "shell.execute_reply.started": "2022-04-25T09:51:51.787462Z"
    },
    "id": "_MClfpsJAfda",
    "outputId": "258f9b36-b785-4b47-ca8d-d5fab50ff30b"
   },
   "outputs": [
    {
     "name": "stdout",
     "output_type": "stream",
     "text": [
      "Epoch 1/50\n"
     ]
    },
    {
     "name": "stderr",
     "output_type": "stream",
     "text": [
      "2022-04-25 09:52:37.469516: I tensorflow/stream_executor/cuda/cuda_dnn.cc:377] Loaded cuDNN version 8302\n"
     ]
    },
    {
     "name": "stdout",
     "output_type": "stream",
     "text": [
      "160/160 [==============================] - 94s 356ms/step - det_loss: 1.1409 - cls_loss: 0.7008 - box_loss: 0.0088 - reg_l2_loss: 0.0636 - loss: 1.2045 - learning_rate: 0.0071 - gradient_norm: 2.1051 - val_det_loss: 0.6307 - val_cls_loss: 0.3669 - val_box_loss: 0.0053 - val_reg_l2_loss: 0.0636 - val_loss: 0.6944\n",
      "Epoch 2/50\n",
      "160/160 [==============================] - 53s 333ms/step - det_loss: 0.5239 - cls_loss: 0.3262 - box_loss: 0.0040 - reg_l2_loss: 0.0637 - loss: 0.5875 - learning_rate: 0.0062 - gradient_norm: 2.4447 - val_det_loss: 0.3871 - val_cls_loss: 0.2212 - val_box_loss: 0.0033 - val_reg_l2_loss: 0.0637 - val_loss: 0.4508\n",
      "Epoch 3/50\n",
      "160/160 [==============================] - 53s 332ms/step - det_loss: 0.3902 - cls_loss: 0.2531 - box_loss: 0.0027 - reg_l2_loss: 0.0637 - loss: 0.4539 - learning_rate: 0.0062 - gradient_norm: 2.3691 - val_det_loss: 0.2933 - val_cls_loss: 0.1780 - val_box_loss: 0.0023 - val_reg_l2_loss: 0.0637 - val_loss: 0.3571\n",
      "Epoch 4/50\n",
      "160/160 [==============================] - 53s 332ms/step - det_loss: 0.3176 - cls_loss: 0.2075 - box_loss: 0.0022 - reg_l2_loss: 0.0638 - loss: 0.3813 - learning_rate: 0.0062 - gradient_norm: 2.1645 - val_det_loss: 0.2362 - val_cls_loss: 0.1522 - val_box_loss: 0.0017 - val_reg_l2_loss: 0.0638 - val_loss: 0.3000\n",
      "Epoch 5/50\n",
      "160/160 [==============================] - 65s 405ms/step - det_loss: 0.2839 - cls_loss: 0.1871 - box_loss: 0.0019 - reg_l2_loss: 0.0638 - loss: 0.3477 - learning_rate: 0.0061 - gradient_norm: 2.0132 - val_det_loss: 0.2198 - val_cls_loss: 0.1447 - val_box_loss: 0.0015 - val_reg_l2_loss: 0.0638 - val_loss: 0.2836\n",
      "Epoch 6/50\n",
      "160/160 [==============================] - 53s 331ms/step - det_loss: 0.2677 - cls_loss: 0.1760 - box_loss: 0.0018 - reg_l2_loss: 0.0638 - loss: 0.3315 - learning_rate: 0.0061 - gradient_norm: 2.2143 - val_det_loss: 0.2288 - val_cls_loss: 0.1540 - val_box_loss: 0.0015 - val_reg_l2_loss: 0.0638 - val_loss: 0.2926\n",
      "Epoch 7/50\n",
      "160/160 [==============================] - 53s 333ms/step - det_loss: 0.2488 - cls_loss: 0.1665 - box_loss: 0.0016 - reg_l2_loss: 0.0638 - loss: 0.3126 - learning_rate: 0.0060 - gradient_norm: 2.0813 - val_det_loss: 0.2150 - val_cls_loss: 0.1425 - val_box_loss: 0.0015 - val_reg_l2_loss: 0.0638 - val_loss: 0.2789\n",
      "Epoch 8/50\n",
      "160/160 [==============================] - 53s 334ms/step - det_loss: 0.2301 - cls_loss: 0.1553 - box_loss: 0.0015 - reg_l2_loss: 0.0639 - loss: 0.2940 - learning_rate: 0.0059 - gradient_norm: 1.8982 - val_det_loss: 0.1969 - val_cls_loss: 0.1301 - val_box_loss: 0.0013 - val_reg_l2_loss: 0.0639 - val_loss: 0.2607\n",
      "Epoch 9/50\n",
      "160/160 [==============================] - 54s 338ms/step - det_loss: 0.2069 - cls_loss: 0.1391 - box_loss: 0.0014 - reg_l2_loss: 0.0639 - loss: 0.2708 - learning_rate: 0.0058 - gradient_norm: 1.6916 - val_det_loss: 0.1667 - val_cls_loss: 0.1127 - val_box_loss: 0.0011 - val_reg_l2_loss: 0.0639 - val_loss: 0.2306\n",
      "Epoch 10/50\n",
      "160/160 [==============================] - 61s 384ms/step - det_loss: 0.2091 - cls_loss: 0.1398 - box_loss: 0.0014 - reg_l2_loss: 0.0639 - loss: 0.2730 - learning_rate: 0.0057 - gradient_norm: 1.7988 - val_det_loss: 0.1674 - val_cls_loss: 0.1082 - val_box_loss: 0.0012 - val_reg_l2_loss: 0.0639 - val_loss: 0.2313\n",
      "Epoch 11/50\n",
      "160/160 [==============================] - 53s 333ms/step - det_loss: 0.1885 - cls_loss: 0.1305 - box_loss: 0.0012 - reg_l2_loss: 0.0639 - loss: 0.2524 - learning_rate: 0.0056 - gradient_norm: 1.5952 - val_det_loss: 0.1564 - val_cls_loss: 0.1111 - val_box_loss: 9.0553e-04 - val_reg_l2_loss: 0.0638 - val_loss: 0.2203\n",
      "Epoch 12/50\n",
      "160/160 [==============================] - 53s 333ms/step - det_loss: 0.1825 - cls_loss: 0.1276 - box_loss: 0.0011 - reg_l2_loss: 0.0638 - loss: 0.2463 - learning_rate: 0.0054 - gradient_norm: 1.6341 - val_det_loss: 0.1522 - val_cls_loss: 0.1017 - val_box_loss: 0.0010 - val_reg_l2_loss: 0.0638 - val_loss: 0.2160\n",
      "Epoch 13/50\n",
      "160/160 [==============================] - 53s 333ms/step - det_loss: 0.1783 - cls_loss: 0.1228 - box_loss: 0.0011 - reg_l2_loss: 0.0638 - loss: 0.2422 - learning_rate: 0.0053 - gradient_norm: 1.6440 - val_det_loss: 0.1626 - val_cls_loss: 0.1145 - val_box_loss: 9.6234e-04 - val_reg_l2_loss: 0.0638 - val_loss: 0.2264\n",
      "Epoch 14/50\n",
      "160/160 [==============================] - 54s 336ms/step - det_loss: 0.1770 - cls_loss: 0.1217 - box_loss: 0.0011 - reg_l2_loss: 0.0638 - loss: 0.2408 - learning_rate: 0.0052 - gradient_norm: 1.6388 - val_det_loss: 0.1534 - val_cls_loss: 0.1010 - val_box_loss: 0.0010 - val_reg_l2_loss: 0.0638 - val_loss: 0.2173\n",
      "Epoch 15/50\n",
      "160/160 [==============================] - 59s 372ms/step - det_loss: 0.1676 - cls_loss: 0.1160 - box_loss: 0.0010 - reg_l2_loss: 0.0638 - loss: 0.2314 - learning_rate: 0.0050 - gradient_norm: 1.5996 - val_det_loss: 0.1299 - val_cls_loss: 0.0919 - val_box_loss: 7.6035e-04 - val_reg_l2_loss: 0.0638 - val_loss: 0.1937\n",
      "Epoch 16/50\n",
      "160/160 [==============================] - 53s 332ms/step - det_loss: 0.1616 - cls_loss: 0.1130 - box_loss: 9.7139e-04 - reg_l2_loss: 0.0638 - loss: 0.2254 - learning_rate: 0.0048 - gradient_norm: 1.5065 - val_det_loss: 0.1492 - val_cls_loss: 0.0983 - val_box_loss: 0.0010 - val_reg_l2_loss: 0.0638 - val_loss: 0.2130\n",
      "Epoch 17/50\n",
      "160/160 [==============================] - 53s 333ms/step - det_loss: 0.1573 - cls_loss: 0.1110 - box_loss: 9.2720e-04 - reg_l2_loss: 0.0638 - loss: 0.2211 - learning_rate: 0.0047 - gradient_norm: 1.5067 - val_det_loss: 0.1375 - val_cls_loss: 0.0963 - val_box_loss: 8.2532e-04 - val_reg_l2_loss: 0.0638 - val_loss: 0.2013\n",
      "Epoch 18/50\n",
      "160/160 [==============================] - 54s 335ms/step - det_loss: 0.1538 - cls_loss: 0.1085 - box_loss: 9.0675e-04 - reg_l2_loss: 0.0638 - loss: 0.2176 - learning_rate: 0.0045 - gradient_norm: 1.5183 - val_det_loss: 0.1335 - val_cls_loss: 0.0932 - val_box_loss: 8.0692e-04 - val_reg_l2_loss: 0.0638 - val_loss: 0.1973\n",
      "Epoch 19/50\n",
      "160/160 [==============================] - 53s 333ms/step - det_loss: 0.1478 - cls_loss: 0.1049 - box_loss: 8.5834e-04 - reg_l2_loss: 0.0638 - loss: 0.2116 - learning_rate: 0.0043 - gradient_norm: 1.4641 - val_det_loss: 0.1411 - val_cls_loss: 0.0949 - val_box_loss: 9.2347e-04 - val_reg_l2_loss: 0.0638 - val_loss: 0.2049\n",
      "Epoch 20/50\n",
      "160/160 [==============================] - 60s 373ms/step - det_loss: 0.1447 - cls_loss: 0.1034 - box_loss: 8.2722e-04 - reg_l2_loss: 0.0637 - loss: 0.2085 - learning_rate: 0.0041 - gradient_norm: 1.3956 - val_det_loss: 0.1320 - val_cls_loss: 0.0941 - val_box_loss: 7.5887e-04 - val_reg_l2_loss: 0.0637 - val_loss: 0.1958\n",
      "Epoch 21/50\n",
      "160/160 [==============================] - 53s 333ms/step - det_loss: 0.1426 - cls_loss: 0.1018 - box_loss: 8.1529e-04 - reg_l2_loss: 0.0637 - loss: 0.2063 - learning_rate: 0.0039 - gradient_norm: 1.4381 - val_det_loss: 0.1324 - val_cls_loss: 0.0920 - val_box_loss: 8.0852e-04 - val_reg_l2_loss: 0.0637 - val_loss: 0.1962\n",
      "Epoch 22/50\n",
      "160/160 [==============================] - 54s 335ms/step - det_loss: 0.1435 - cls_loss: 0.1017 - box_loss: 8.3720e-04 - reg_l2_loss: 0.0637 - loss: 0.2072 - learning_rate: 0.0037 - gradient_norm: 1.4520 - val_det_loss: 0.1125 - val_cls_loss: 0.0806 - val_box_loss: 6.3786e-04 - val_reg_l2_loss: 0.0637 - val_loss: 0.1762\n",
      "Epoch 23/50\n",
      "160/160 [==============================] - 55s 341ms/step - det_loss: 0.1387 - cls_loss: 0.0993 - box_loss: 7.8776e-04 - reg_l2_loss: 0.0637 - loss: 0.2024 - learning_rate: 0.0035 - gradient_norm: 1.4684 - val_det_loss: 0.1149 - val_cls_loss: 0.0817 - val_box_loss: 6.6480e-04 - val_reg_l2_loss: 0.0637 - val_loss: 0.1786\n",
      "Epoch 24/50\n",
      "160/160 [==============================] - 54s 337ms/step - det_loss: 0.1382 - cls_loss: 0.0990 - box_loss: 7.8265e-04 - reg_l2_loss: 0.0637 - loss: 0.2019 - learning_rate: 0.0033 - gradient_norm: 1.4229 - val_det_loss: 0.1191 - val_cls_loss: 0.0831 - val_box_loss: 7.1973e-04 - val_reg_l2_loss: 0.0637 - val_loss: 0.1827\n",
      "Epoch 25/50\n",
      "160/160 [==============================] - 59s 371ms/step - det_loss: 0.1438 - cls_loss: 0.1016 - box_loss: 8.4505e-04 - reg_l2_loss: 0.0637 - loss: 0.2075 - learning_rate: 0.0031 - gradient_norm: 1.5611 - val_det_loss: 0.1214 - val_cls_loss: 0.0852 - val_box_loss: 7.2258e-04 - val_reg_l2_loss: 0.0637 - val_loss: 0.1850\n",
      "Epoch 26/50\n",
      "160/160 [==============================] - 53s 334ms/step - det_loss: 0.1287 - cls_loss: 0.0927 - box_loss: 7.1956e-04 - reg_l2_loss: 0.0637 - loss: 0.1924 - learning_rate: 0.0029 - gradient_norm: 1.4007 - val_det_loss: 0.1166 - val_cls_loss: 0.0853 - val_box_loss: 6.2572e-04 - val_reg_l2_loss: 0.0637 - val_loss: 0.1802\n",
      "Epoch 27/50\n",
      "160/160 [==============================] - 54s 338ms/step - det_loss: 0.1294 - cls_loss: 0.0937 - box_loss: 7.1246e-04 - reg_l2_loss: 0.0637 - loss: 0.1930 - learning_rate: 0.0027 - gradient_norm: 1.4605 - val_det_loss: 0.1049 - val_cls_loss: 0.0735 - val_box_loss: 6.2832e-04 - val_reg_l2_loss: 0.0636 - val_loss: 0.1686\n",
      "Epoch 28/50\n",
      "160/160 [==============================] - 54s 335ms/step - det_loss: 0.1323 - cls_loss: 0.0961 - box_loss: 7.2430e-04 - reg_l2_loss: 0.0636 - loss: 0.1959 - learning_rate: 0.0025 - gradient_norm: 1.4319 - val_det_loss: 0.1167 - val_cls_loss: 0.0788 - val_box_loss: 7.5727e-04 - val_reg_l2_loss: 0.0636 - val_loss: 0.1803\n",
      "Epoch 29/50\n",
      "160/160 [==============================] - 54s 335ms/step - det_loss: 0.1232 - cls_loss: 0.0906 - box_loss: 6.5102e-04 - reg_l2_loss: 0.0636 - loss: 0.1868 - learning_rate: 0.0023 - gradient_norm: 1.2846 - val_det_loss: 0.1040 - val_cls_loss: 0.0758 - val_box_loss: 5.6382e-04 - val_reg_l2_loss: 0.0636 - val_loss: 0.1676\n",
      "Epoch 30/50\n",
      "160/160 [==============================] - 59s 371ms/step - det_loss: 0.1244 - cls_loss: 0.0908 - box_loss: 6.7205e-04 - reg_l2_loss: 0.0636 - loss: 0.1880 - learning_rate: 0.0021 - gradient_norm: 1.3633 - val_det_loss: 0.1012 - val_cls_loss: 0.0721 - val_box_loss: 5.8379e-04 - val_reg_l2_loss: 0.0636 - val_loss: 0.1649\n",
      "Epoch 31/50\n",
      "160/160 [==============================] - 53s 333ms/step - det_loss: 0.1212 - cls_loss: 0.0888 - box_loss: 6.4850e-04 - reg_l2_loss: 0.0636 - loss: 0.1848 - learning_rate: 0.0020 - gradient_norm: 1.3488 - val_det_loss: 0.1012 - val_cls_loss: 0.0727 - val_box_loss: 5.7036e-04 - val_reg_l2_loss: 0.0636 - val_loss: 0.1648\n",
      "Epoch 32/50\n",
      "160/160 [==============================] - 53s 333ms/step - det_loss: 0.1236 - cls_loss: 0.0905 - box_loss: 6.6362e-04 - reg_l2_loss: 0.0636 - loss: 0.1872 - learning_rate: 0.0018 - gradient_norm: 1.3403 - val_det_loss: 0.1002 - val_cls_loss: 0.0733 - val_box_loss: 5.3776e-04 - val_reg_l2_loss: 0.0636 - val_loss: 0.1638\n",
      "Epoch 33/50\n",
      "160/160 [==============================] - 54s 338ms/step - det_loss: 0.1207 - cls_loss: 0.0884 - box_loss: 6.4733e-04 - reg_l2_loss: 0.0636 - loss: 0.1843 - learning_rate: 0.0016 - gradient_norm: 1.3227 - val_det_loss: 0.0986 - val_cls_loss: 0.0700 - val_box_loss: 5.7213e-04 - val_reg_l2_loss: 0.0636 - val_loss: 0.1622\n",
      "Epoch 34/50\n",
      "160/160 [==============================] - 53s 332ms/step - det_loss: 0.1222 - cls_loss: 0.0881 - box_loss: 6.8278e-04 - reg_l2_loss: 0.0636 - loss: 0.1858 - learning_rate: 0.0014 - gradient_norm: 1.3365 - val_det_loss: 0.0993 - val_cls_loss: 0.0706 - val_box_loss: 5.7371e-04 - val_reg_l2_loss: 0.0636 - val_loss: 0.1629\n",
      "Epoch 35/50\n",
      "160/160 [==============================] - 62s 387ms/step - det_loss: 0.1196 - cls_loss: 0.0873 - box_loss: 6.4578e-04 - reg_l2_loss: 0.0636 - loss: 0.1832 - learning_rate: 0.0013 - gradient_norm: 1.3504 - val_det_loss: 0.1053 - val_cls_loss: 0.0765 - val_box_loss: 5.7616e-04 - val_reg_l2_loss: 0.0636 - val_loss: 0.1689\n",
      "Epoch 36/50\n",
      "160/160 [==============================] - 53s 332ms/step - det_loss: 0.1194 - cls_loss: 0.0874 - box_loss: 6.3860e-04 - reg_l2_loss: 0.0636 - loss: 0.1829 - learning_rate: 0.0011 - gradient_norm: 1.3275 - val_det_loss: 0.1029 - val_cls_loss: 0.0742 - val_box_loss: 5.7401e-04 - val_reg_l2_loss: 0.0636 - val_loss: 0.1665\n",
      "Epoch 37/50\n",
      "160/160 [==============================] - 53s 334ms/step - det_loss: 0.1150 - cls_loss: 0.0844 - box_loss: 6.1267e-04 - reg_l2_loss: 0.0636 - loss: 0.1785 - learning_rate: 9.5137e-04 - gradient_norm: 1.2500 - val_det_loss: 0.0972 - val_cls_loss: 0.0708 - val_box_loss: 5.2821e-04 - val_reg_l2_loss: 0.0636 - val_loss: 0.1608\n",
      "Epoch 38/50\n",
      "160/160 [==============================] - 53s 334ms/step - det_loss: 0.1152 - cls_loss: 0.0851 - box_loss: 6.0252e-04 - reg_l2_loss: 0.0636 - loss: 0.1788 - learning_rate: 8.1204e-04 - gradient_norm: 1.3074 - val_det_loss: 0.0956 - val_cls_loss: 0.0694 - val_box_loss: 5.2357e-04 - val_reg_l2_loss: 0.0636 - val_loss: 0.1592\n",
      "Epoch 39/50\n",
      "160/160 [==============================] - 53s 334ms/step - det_loss: 0.1171 - cls_loss: 0.0852 - box_loss: 6.3718e-04 - reg_l2_loss: 0.0635 - loss: 0.1806 - learning_rate: 6.8220e-04 - gradient_norm: 1.3205 - val_det_loss: 0.0935 - val_cls_loss: 0.0676 - val_box_loss: 5.1775e-04 - val_reg_l2_loss: 0.0635 - val_loss: 0.1570\n",
      "Epoch 40/50\n",
      "160/160 [==============================] - 60s 373ms/step - det_loss: 0.1103 - cls_loss: 0.0821 - box_loss: 5.6398e-04 - reg_l2_loss: 0.0635 - loss: 0.1739 - learning_rate: 5.6241e-04 - gradient_norm: 1.2122 - val_det_loss: 0.0960 - val_cls_loss: 0.0708 - val_box_loss: 5.0260e-04 - val_reg_l2_loss: 0.0635 - val_loss: 0.1595\n",
      "Epoch 41/50\n",
      "160/160 [==============================] - 54s 338ms/step - det_loss: 0.1139 - cls_loss: 0.0839 - box_loss: 6.0017e-04 - reg_l2_loss: 0.0635 - loss: 0.1774 - learning_rate: 4.5315e-04 - gradient_norm: 1.2635 - val_det_loss: 0.0939 - val_cls_loss: 0.0690 - val_box_loss: 4.9849e-04 - val_reg_l2_loss: 0.0635 - val_loss: 0.1574\n",
      "Epoch 42/50\n",
      "160/160 [==============================] - 53s 334ms/step - det_loss: 0.1152 - cls_loss: 0.0853 - box_loss: 5.9709e-04 - reg_l2_loss: 0.0635 - loss: 0.1787 - learning_rate: 3.5486e-04 - gradient_norm: 1.3212 - val_det_loss: 0.0941 - val_cls_loss: 0.0684 - val_box_loss: 5.1338e-04 - val_reg_l2_loss: 0.0635 - val_loss: 0.1576\n",
      "Epoch 43/50\n",
      "160/160 [==============================] - 53s 333ms/step - det_loss: 0.1153 - cls_loss: 0.0852 - box_loss: 6.0204e-04 - reg_l2_loss: 0.0635 - loss: 0.1788 - learning_rate: 2.6796e-04 - gradient_norm: 1.2859 - val_det_loss: 0.0939 - val_cls_loss: 0.0687 - val_box_loss: 5.0270e-04 - val_reg_l2_loss: 0.0635 - val_loss: 0.1574\n",
      "Epoch 44/50\n",
      "160/160 [==============================] - 53s 332ms/step - det_loss: 0.1120 - cls_loss: 0.0830 - box_loss: 5.7941e-04 - reg_l2_loss: 0.0635 - loss: 0.1755 - learning_rate: 1.9280e-04 - gradient_norm: 1.2815 - val_det_loss: 0.0935 - val_cls_loss: 0.0684 - val_box_loss: 5.0220e-04 - val_reg_l2_loss: 0.0635 - val_loss: 0.1571\n",
      "Epoch 45/50\n",
      "160/160 [==============================] - 59s 372ms/step - det_loss: 0.1172 - cls_loss: 0.0846 - box_loss: 6.5066e-04 - reg_l2_loss: 0.0635 - loss: 0.1807 - learning_rate: 1.2968e-04 - gradient_norm: 1.2985 - val_det_loss: 0.0920 - val_cls_loss: 0.0671 - val_box_loss: 4.9843e-04 - val_reg_l2_loss: 0.0635 - val_loss: 0.1556\n",
      "Epoch 46/50\n",
      "160/160 [==============================] - 54s 337ms/step - det_loss: 0.1105 - cls_loss: 0.0819 - box_loss: 5.7180e-04 - reg_l2_loss: 0.0635 - loss: 0.1740 - learning_rate: 7.8880e-05 - gradient_norm: 1.2840 - val_det_loss: 0.0922 - val_cls_loss: 0.0671 - val_box_loss: 5.0187e-04 - val_reg_l2_loss: 0.0635 - val_loss: 0.1557\n",
      "Epoch 47/50\n",
      "160/160 [==============================] - 53s 334ms/step - det_loss: 0.1112 - cls_loss: 0.0820 - box_loss: 5.8329e-04 - reg_l2_loss: 0.0635 - loss: 0.1747 - learning_rate: 4.0593e-05 - gradient_norm: 1.2214 - val_det_loss: 0.0924 - val_cls_loss: 0.0674 - val_box_loss: 4.9975e-04 - val_reg_l2_loss: 0.0635 - val_loss: 0.1559\n",
      "Epoch 48/50\n",
      "160/160 [==============================] - 53s 334ms/step - det_loss: 0.1166 - cls_loss: 0.0857 - box_loss: 6.1879e-04 - reg_l2_loss: 0.0635 - loss: 0.1802 - learning_rate: 1.4980e-05 - gradient_norm: 1.3227 - val_det_loss: 0.0924 - val_cls_loss: 0.0675 - val_box_loss: 4.9875e-04 - val_reg_l2_loss: 0.0635 - val_loss: 0.1559\n",
      "Epoch 49/50\n",
      "160/160 [==============================] - 54s 335ms/step - det_loss: 0.1128 - cls_loss: 0.0827 - box_loss: 6.0182e-04 - reg_l2_loss: 0.0635 - loss: 0.1764 - learning_rate: 2.1472e-06 - gradient_norm: 1.2908 - val_det_loss: 0.0921 - val_cls_loss: 0.0672 - val_box_loss: 4.9822e-04 - val_reg_l2_loss: 0.0635 - val_loss: 0.1556\n",
      "Epoch 50/50\n",
      "160/160 [==============================] - 59s 367ms/step - det_loss: 0.1148 - cls_loss: 0.0842 - box_loss: 6.1169e-04 - reg_l2_loss: 0.0635 - loss: 0.1784 - learning_rate: 2.1467e-06 - gradient_norm: 1.3014 - val_det_loss: 0.0924 - val_cls_loss: 0.0673 - val_box_loss: 5.0118e-04 - val_reg_l2_loss: 0.0635 - val_loss: 0.1559\n"
     ]
    }
   ],
   "source": [
    "model = object_detector.create(train_data, model_spec=spec, batch_size=5, train_whole_model=True, epochs=50, validation_data=val_data)"
   ]
  },
  {
   "cell_type": "markdown",
   "metadata": {
    "id": "KB4hKeerMmh4"
   },
   "source": [
    "### Step 4. Evaluate the model with the validation data.\n",
    "\n",
    "After training the object detection model using the images in the training dataset, the 200 images in the validation dataset to is used evaluate how the model performs against new data it has never seen before."
   ]
  },
  {
   "cell_type": "code",
   "execution_count": 8,
   "metadata": {
    "colab": {
     "base_uri": "https://localhost:8080/"
    },
    "execution": {
     "iopub.execute_input": "2022-04-25T10:38:28.740988Z",
     "iopub.status.busy": "2022-04-25T10:38:28.740777Z",
     "iopub.status.idle": "2022-04-25T10:38:53.573268Z",
     "shell.execute_reply": "2022-04-25T10:38:53.572785Z",
     "shell.execute_reply.started": "2022-04-25T10:38:28.740966Z"
    },
    "id": "OUqEpcYwAg8L",
    "outputId": "70c4cad6-1223-48a9-c05f-4bcda89861ad"
   },
   "outputs": [
    {
     "name": "stdout",
     "output_type": "stream",
     "text": [
      "4/4 [==============================] - 22s 2s/step\n",
      "\n"
     ]
    },
    {
     "data": {
      "text/plain": [
       "{'AP': 0.9132361,\n",
       " 'AP50': 0.99986994,\n",
       " 'AP75': 0.995243,\n",
       " 'APs': 0.6107826,\n",
       " 'APm': 0.9064384,\n",
       " 'APl': 0.92719424,\n",
       " 'ARmax1': 0.6146744,\n",
       " 'ARmax10': 0.94974965,\n",
       " 'ARmax100': 0.9512094,\n",
       " 'ARs': 0.825,\n",
       " 'ARm': 0.94476503,\n",
       " 'ARl': 0.957675,\n",
       " 'AP_/chicken': 0.90475774,\n",
       " 'AP_/ketchup_portion': 0.89451325,\n",
       " 'AP_/ketchup_bottle': 0.9064585,\n",
       " 'AP_/potatoe_fries': 0.9166174,\n",
       " 'AP_/empty_plate': 0.94383335}"
      ]
     },
     "execution_count": 8,
     "metadata": {},
     "output_type": "execute_result"
    }
   ],
   "source": [
    "model.evaluate(val_data)"
   ]
  },
  {
   "cell_type": "markdown",
   "metadata": {
    "id": "NARVYk9rGLIl"
   },
   "source": [
    "### Step 5: Export Model as a TensorFlow Lite model."
   ]
  },
  {
   "cell_type": "code",
   "execution_count": 9,
   "metadata": {
    "execution": {
     "iopub.execute_input": "2022-04-25T10:38:53.577352Z",
     "iopub.status.busy": "2022-04-25T10:38:53.576604Z",
     "iopub.status.idle": "2022-04-25T10:38:53.588923Z",
     "shell.execute_reply": "2022-04-25T10:38:53.588371Z",
     "shell.execute_reply.started": "2022-04-25T10:38:53.577329Z"
    },
    "id": "7B5nRDdwJm2l"
   },
   "outputs": [],
   "source": [
    "path1 = '/notebooks/models/model0.tflite' # batch = 5; epochs = 50 architecture = efficientdet_lite0"
   ]
  },
  {
   "cell_type": "code",
   "execution_count": 10,
   "metadata": {
    "execution": {
     "iopub.execute_input": "2022-04-25T10:38:53.591017Z",
     "iopub.status.busy": "2022-04-25T10:38:53.590320Z",
     "iopub.status.idle": "2022-04-25T10:41:48.710915Z",
     "shell.execute_reply": "2022-04-25T10:41:48.710198Z",
     "shell.execute_reply.started": "2022-04-25T10:38:53.590990Z"
    },
    "id": "_u3eFxoBAiqE"
   },
   "outputs": [
    {
     "name": "stderr",
     "output_type": "stream",
     "text": [
      "2022-04-25 10:39:00.912659: W tensorflow/python/util/util.cc:368] Sets are not currently considered sequences, but this may change in the future, so consider avoiding using them.\n",
      "2022-04-25 10:39:24.373692: W tensorflow/core/common_runtime/graph_constructor.cc:803] Node 'resample_p7/PartitionedCall' has 1 outputs but the _output_shapes attribute specifies shapes for 3 outputs. Output shapes may be inaccurate.\n",
      "2022-04-25 10:39:37.104400: W tensorflow/compiler/mlir/lite/python/tf_tfl_flatbuffer_helpers.cc:363] Ignored output_format.\n",
      "2022-04-25 10:39:37.104475: W tensorflow/compiler/mlir/lite/python/tf_tfl_flatbuffer_helpers.cc:366] Ignored drop_control_dependency.\n",
      "2022-04-25 10:39:37.104487: W tensorflow/compiler/mlir/lite/python/tf_tfl_flatbuffer_helpers.cc:372] Ignored change_concat_input_ranges.\n",
      "2022-04-25 10:39:37.106130: I tensorflow/cc/saved_model/reader.cc:43] Reading SavedModel from: /tmp/tmpfvqnx04q\n",
      "2022-04-25 10:39:37.252965: I tensorflow/cc/saved_model/reader.cc:107] Reading meta graph with tags { serve }\n",
      "2022-04-25 10:39:37.253031: I tensorflow/cc/saved_model/reader.cc:148] Reading SavedModel debug info (if present) from: /tmp/tmpfvqnx04q\n",
      "2022-04-25 10:39:37.847946: I tensorflow/cc/saved_model/loader.cc:212] Restoring SavedModel bundle.\n",
      "2022-04-25 10:39:41.000778: I tensorflow/cc/saved_model/loader.cc:196] Running initialization op on SavedModel bundle at path: /tmp/tmpfvqnx04q\n",
      "2022-04-25 10:39:42.249493: I tensorflow/cc/saved_model/loader.cc:303] SavedModel load for tags { serve }; Status: success: OK. Took 5143366 microseconds.\n",
      "2022-04-25 10:39:44.220780: I tensorflow/compiler/mlir/tensorflow/utils/dump_mlir_util.cc:237] disabling MLIR crash reproducer, set env var `MLIR_CRASH_REPRODUCER_DIRECTORY` to enable.\n",
      "2022-04-25 10:39:46.344003: I tensorflow/compiler/mlir/lite/flatbuffer_export.cc:1962] Estimated count of arithmetic ops: 1.763 G  ops, equivalently 0.882 G  MACs\n",
      "\n",
      "fully_quantize: 0, inference_type: 6, input_inference_type: 3, output_inference_type: 0\n",
      "2022-04-25 10:41:47.525472: I tensorflow/compiler/mlir/lite/flatbuffer_export.cc:1962] Estimated count of arithmetic ops: 1.763 G  ops, equivalently 0.882 G  MACs\n",
      "\n"
     ]
    }
   ],
   "source": [
    "model.export(export_dir='.', tflite_filename=path1)"
   ]
  },
  {
   "cell_type": "markdown",
   "metadata": {
    "id": "JZcBmEigOCO3"
   },
   "source": [
    "### Step 6:  Evaluate the TensorFlow Lite model."
   ]
  },
  {
   "cell_type": "code",
   "execution_count": 11,
   "metadata": {
    "colab": {
     "base_uri": "https://localhost:8080/"
    },
    "execution": {
     "iopub.execute_input": "2022-04-25T10:41:48.712400Z",
     "iopub.status.busy": "2022-04-25T10:41:48.711945Z",
     "iopub.status.idle": "2022-04-25T10:42:30.054259Z",
     "shell.execute_reply": "2022-04-25T10:42:30.053515Z",
     "shell.execute_reply.started": "2022-04-25T10:41:48.712377Z"
    },
    "id": "hlfgsVHXflW5",
    "outputId": "9591e2f8-6d4e-43dd-e9ec-3e659e6c99ac"
   },
   "outputs": [
    {
     "name": "stdout",
     "output_type": "stream",
     "text": [
      "200/200 [==============================] - 40s 196ms/step\n",
      "\n"
     ]
    },
    {
     "data": {
      "text/plain": [
       "{'AP': 0.89553547,\n",
       " 'AP50': 0.99998766,\n",
       " 'AP75': 0.9938825,\n",
       " 'APs': 0.56905943,\n",
       " 'APm': 0.8909096,\n",
       " 'APl': 0.9037005,\n",
       " 'ARmax1': 0.6111694,\n",
       " 'ARmax10': 0.9170122,\n",
       " 'ARmax100': 0.9170122,\n",
       " 'ARs': 0.575,\n",
       " 'ARm': 0.91457975,\n",
       " 'ARl': 0.92327774,\n",
       " 'AP_/chicken': 0.89246935,\n",
       " 'AP_/ketchup_portion': 0.8792171,\n",
       " 'AP_/ketchup_bottle': 0.8918523,\n",
       " 'AP_/potatoe_fries': 0.8936617,\n",
       " 'AP_/empty_plate': 0.92047703}"
      ]
     },
     "execution_count": 11,
     "metadata": {},
     "output_type": "execute_result"
    }
   ],
   "source": [
    "model.evaluate_tflite(path1, val_data)"
   ]
  },
  {
   "cell_type": "markdown",
   "metadata": {},
   "source": [
    "## **Architecture: EfficientDet-Lite1**"
   ]
  },
  {
   "cell_type": "code",
   "execution_count": 9,
   "metadata": {
    "execution": {
     "iopub.execute_input": "2022-04-25T13:00:04.159840Z",
     "iopub.status.busy": "2022-04-25T13:00:04.159590Z",
     "iopub.status.idle": "2022-04-25T13:00:04.164872Z",
     "shell.execute_reply": "2022-04-25T13:00:04.163777Z",
     "shell.execute_reply.started": "2022-04-25T13:00:04.159815Z"
    }
   },
   "outputs": [],
   "source": [
    "spec =  model_spec.get('efficientdet_lite1')"
   ]
  },
  {
   "cell_type": "code",
   "execution_count": 10,
   "metadata": {
    "execution": {
     "iopub.execute_input": "2022-04-25T13:00:07.199099Z",
     "iopub.status.busy": "2022-04-25T13:00:07.198861Z",
     "iopub.status.idle": "2022-04-25T14:20:53.593834Z",
     "shell.execute_reply": "2022-04-25T14:20:53.592901Z",
     "shell.execute_reply.started": "2022-04-25T13:00:07.199075Z"
    }
   },
   "outputs": [
    {
     "name": "stdout",
     "output_type": "stream",
     "text": [
      "Epoch 1/50\n"
     ]
    },
    {
     "name": "stderr",
     "output_type": "stream",
     "text": [
      "2022-04-25 13:01:04.537441: I tensorflow/stream_executor/cuda/cuda_dnn.cc:377] Loaded cuDNN version 8302\n"
     ]
    },
    {
     "name": "stdout",
     "output_type": "stream",
     "text": [
      "160/160 [==============================] - 144s 612ms/step - det_loss: 1.0585 - cls_loss: 0.6990 - box_loss: 0.0072 - reg_l2_loss: 0.0712 - loss: 1.1297 - learning_rate: 0.0071 - gradient_norm: 2.1851 - val_det_loss: 0.4539 - val_cls_loss: 0.2899 - val_box_loss: 0.0033 - val_reg_l2_loss: 0.0712 - val_loss: 0.5251\n",
      "Epoch 2/50\n",
      "160/160 [==============================] - 93s 580ms/step - det_loss: 0.4365 - cls_loss: 0.2940 - box_loss: 0.0028 - reg_l2_loss: 0.0713 - loss: 0.5077 - learning_rate: 0.0062 - gradient_norm: 2.4046 - val_det_loss: 0.3226 - val_cls_loss: 0.2070 - val_box_loss: 0.0023 - val_reg_l2_loss: 0.0713 - val_loss: 0.3938\n",
      "Epoch 3/50\n",
      "160/160 [==============================] - 93s 580ms/step - det_loss: 0.3156 - cls_loss: 0.2138 - box_loss: 0.0020 - reg_l2_loss: 0.0713 - loss: 0.3869 - learning_rate: 0.0062 - gradient_norm: 2.1099 - val_det_loss: 0.2124 - val_cls_loss: 0.1426 - val_box_loss: 0.0014 - val_reg_l2_loss: 0.0713 - val_loss: 0.2837\n",
      "Epoch 4/50\n",
      "160/160 [==============================] - 92s 578ms/step - det_loss: 0.2680 - cls_loss: 0.1792 - box_loss: 0.0018 - reg_l2_loss: 0.0713 - loss: 0.3393 - learning_rate: 0.0062 - gradient_norm: 1.9708 - val_det_loss: 0.2006 - val_cls_loss: 0.1403 - val_box_loss: 0.0012 - val_reg_l2_loss: 0.0713 - val_loss: 0.2719\n",
      "Epoch 5/50\n",
      "160/160 [==============================] - 106s 666ms/step - det_loss: 0.2335 - cls_loss: 0.1589 - box_loss: 0.0015 - reg_l2_loss: 0.0713 - loss: 0.3048 - learning_rate: 0.0061 - gradient_norm: 1.8285 - val_det_loss: 0.1761 - val_cls_loss: 0.1229 - val_box_loss: 0.0011 - val_reg_l2_loss: 0.0713 - val_loss: 0.2474\n",
      "Epoch 6/50\n",
      "160/160 [==============================] - 93s 580ms/step - det_loss: 0.2197 - cls_loss: 0.1511 - box_loss: 0.0014 - reg_l2_loss: 0.0713 - loss: 0.2911 - learning_rate: 0.0061 - gradient_norm: 1.8678 - val_det_loss: 0.1529 - val_cls_loss: 0.1056 - val_box_loss: 9.4537e-04 - val_reg_l2_loss: 0.0713 - val_loss: 0.2242\n",
      "Epoch 7/50\n",
      "160/160 [==============================] - 93s 582ms/step - det_loss: 0.1967 - cls_loss: 0.1366 - box_loss: 0.0012 - reg_l2_loss: 0.0713 - loss: 0.2680 - learning_rate: 0.0060 - gradient_norm: 1.6970 - val_det_loss: 0.1387 - val_cls_loss: 0.1003 - val_box_loss: 7.6872e-04 - val_reg_l2_loss: 0.0713 - val_loss: 0.2101\n",
      "Epoch 8/50\n",
      "160/160 [==============================] - 94s 588ms/step - det_loss: 0.1887 - cls_loss: 0.1320 - box_loss: 0.0011 - reg_l2_loss: 0.0713 - loss: 0.2601 - learning_rate: 0.0059 - gradient_norm: 1.7179 - val_det_loss: 0.1455 - val_cls_loss: 0.1003 - val_box_loss: 9.0485e-04 - val_reg_l2_loss: 0.0713 - val_loss: 0.2169\n",
      "Epoch 9/50\n",
      "160/160 [==============================] - 94s 586ms/step - det_loss: 0.1795 - cls_loss: 0.1257 - box_loss: 0.0011 - reg_l2_loss: 0.0713 - loss: 0.2508 - learning_rate: 0.0058 - gradient_norm: 1.7310 - val_det_loss: 0.2521 - val_cls_loss: 0.2090 - val_box_loss: 8.6136e-04 - val_reg_l2_loss: 0.0713 - val_loss: 0.3234\n",
      "Epoch 10/50\n",
      "160/160 [==============================] - 102s 638ms/step - det_loss: 0.1796 - cls_loss: 0.1246 - box_loss: 0.0011 - reg_l2_loss: 0.0713 - loss: 0.2509 - learning_rate: 0.0057 - gradient_norm: 1.7636 - val_det_loss: 0.1431 - val_cls_loss: 0.0981 - val_box_loss: 9.0044e-04 - val_reg_l2_loss: 0.0713 - val_loss: 0.2144\n",
      "Epoch 11/50\n",
      "160/160 [==============================] - 94s 588ms/step - det_loss: 0.1698 - cls_loss: 0.1183 - box_loss: 0.0010 - reg_l2_loss: 0.0713 - loss: 0.2411 - learning_rate: 0.0056 - gradient_norm: 1.6451 - val_det_loss: 0.1196 - val_cls_loss: 0.0822 - val_box_loss: 7.4666e-04 - val_reg_l2_loss: 0.0713 - val_loss: 0.1909\n",
      "Epoch 12/50\n",
      "160/160 [==============================] - 94s 587ms/step - det_loss: 0.1628 - cls_loss: 0.1147 - box_loss: 9.6248e-04 - reg_l2_loss: 0.0713 - loss: 0.2341 - learning_rate: 0.0054 - gradient_norm: 1.5503 - val_det_loss: 0.1149 - val_cls_loss: 0.0794 - val_box_loss: 7.1087e-04 - val_reg_l2_loss: 0.0713 - val_loss: 0.1862\n",
      "Epoch 13/50\n",
      "160/160 [==============================] - 94s 588ms/step - det_loss: 0.1513 - cls_loss: 0.1083 - box_loss: 8.5876e-04 - reg_l2_loss: 0.0713 - loss: 0.2226 - learning_rate: 0.0053 - gradient_norm: 1.5415 - val_det_loss: 0.1017 - val_cls_loss: 0.0728 - val_box_loss: 5.7792e-04 - val_reg_l2_loss: 0.0713 - val_loss: 0.1730\n",
      "Epoch 14/50\n",
      "160/160 [==============================] - 94s 587ms/step - det_loss: 0.1446 - cls_loss: 0.1042 - box_loss: 8.0642e-04 - reg_l2_loss: 0.0713 - loss: 0.2158 - learning_rate: 0.0052 - gradient_norm: 1.4885 - val_det_loss: 0.1006 - val_cls_loss: 0.0729 - val_box_loss: 5.5417e-04 - val_reg_l2_loss: 0.0713 - val_loss: 0.1718\n",
      "Epoch 15/50\n",
      "160/160 [==============================] - 102s 639ms/step - det_loss: 0.1421 - cls_loss: 0.1020 - box_loss: 8.0314e-04 - reg_l2_loss: 0.0712 - loss: 0.2134 - learning_rate: 0.0050 - gradient_norm: 1.5459 - val_det_loss: 0.1081 - val_cls_loss: 0.0753 - val_box_loss: 6.5759e-04 - val_reg_l2_loss: 0.0712 - val_loss: 0.1794\n",
      "Epoch 16/50\n",
      "160/160 [==============================] - 94s 587ms/step - det_loss: 0.1452 - cls_loss: 0.1043 - box_loss: 8.1911e-04 - reg_l2_loss: 0.0712 - loss: 0.2165 - learning_rate: 0.0048 - gradient_norm: 1.7585 - val_det_loss: 0.1161 - val_cls_loss: 0.0803 - val_box_loss: 7.1660e-04 - val_reg_l2_loss: 0.0712 - val_loss: 0.1873\n",
      "Epoch 17/50\n",
      "160/160 [==============================] - 94s 586ms/step - det_loss: 0.1349 - cls_loss: 0.0971 - box_loss: 7.5626e-04 - reg_l2_loss: 0.0712 - loss: 0.2061 - learning_rate: 0.0047 - gradient_norm: 1.4785 - val_det_loss: 0.1138 - val_cls_loss: 0.0777 - val_box_loss: 7.2060e-04 - val_reg_l2_loss: 0.0712 - val_loss: 0.1850\n",
      "Epoch 18/50\n",
      "160/160 [==============================] - 94s 586ms/step - det_loss: 0.1303 - cls_loss: 0.0953 - box_loss: 6.9978e-04 - reg_l2_loss: 0.0712 - loss: 0.2015 - learning_rate: 0.0045 - gradient_norm: 1.4838 - val_det_loss: 0.0902 - val_cls_loss: 0.0683 - val_box_loss: 4.3832e-04 - val_reg_l2_loss: 0.0712 - val_loss: 0.1614\n",
      "Epoch 19/50\n",
      "160/160 [==============================] - 94s 587ms/step - det_loss: 0.1282 - cls_loss: 0.0938 - box_loss: 6.8912e-04 - reg_l2_loss: 0.0712 - loss: 0.1994 - learning_rate: 0.0043 - gradient_norm: 1.4685 - val_det_loss: 0.0916 - val_cls_loss: 0.0669 - val_box_loss: 4.9451e-04 - val_reg_l2_loss: 0.0712 - val_loss: 0.1628\n",
      "Epoch 20/50\n",
      "160/160 [==============================] - 104s 649ms/step - det_loss: 0.1249 - cls_loss: 0.0917 - box_loss: 6.6424e-04 - reg_l2_loss: 0.0712 - loss: 0.1961 - learning_rate: 0.0041 - gradient_norm: 1.4210 - val_det_loss: 0.0885 - val_cls_loss: 0.0648 - val_box_loss: 4.7381e-04 - val_reg_l2_loss: 0.0712 - val_loss: 0.1597\n",
      "Epoch 21/50\n",
      "160/160 [==============================] - 93s 583ms/step - det_loss: 0.1211 - cls_loss: 0.0889 - box_loss: 6.4435e-04 - reg_l2_loss: 0.0712 - loss: 0.1923 - learning_rate: 0.0039 - gradient_norm: 1.4164 - val_det_loss: 0.0833 - val_cls_loss: 0.0631 - val_box_loss: 4.0445e-04 - val_reg_l2_loss: 0.0711 - val_loss: 0.1545\n",
      "Epoch 22/50\n",
      "160/160 [==============================] - 93s 584ms/step - det_loss: 0.1206 - cls_loss: 0.0889 - box_loss: 6.3352e-04 - reg_l2_loss: 0.0711 - loss: 0.1917 - learning_rate: 0.0037 - gradient_norm: 1.3806 - val_det_loss: 0.0784 - val_cls_loss: 0.0579 - val_box_loss: 4.0862e-04 - val_reg_l2_loss: 0.0711 - val_loss: 0.1495\n",
      "Epoch 23/50\n",
      "160/160 [==============================] - 94s 586ms/step - det_loss: 0.1191 - cls_loss: 0.0878 - box_loss: 6.2613e-04 - reg_l2_loss: 0.0711 - loss: 0.1903 - learning_rate: 0.0035 - gradient_norm: 1.5946 - val_det_loss: 0.0984 - val_cls_loss: 0.0727 - val_box_loss: 5.1335e-04 - val_reg_l2_loss: 0.0711 - val_loss: 0.1695\n",
      "Epoch 24/50\n",
      "160/160 [==============================] - 94s 586ms/step - det_loss: 0.1137 - cls_loss: 0.0842 - box_loss: 5.8828e-04 - reg_l2_loss: 0.0711 - loss: 0.1848 - learning_rate: 0.0033 - gradient_norm: 1.3212 - val_det_loss: 0.0836 - val_cls_loss: 0.0615 - val_box_loss: 4.4125e-04 - val_reg_l2_loss: 0.0711 - val_loss: 0.1547\n",
      "Epoch 25/50\n",
      "160/160 [==============================] - 101s 631ms/step - det_loss: 0.1126 - cls_loss: 0.0838 - box_loss: 5.7526e-04 - reg_l2_loss: 0.0711 - loss: 0.1837 - learning_rate: 0.0031 - gradient_norm: 1.3753 - val_det_loss: 0.0822 - val_cls_loss: 0.0627 - val_box_loss: 3.9037e-04 - val_reg_l2_loss: 0.0711 - val_loss: 0.1533\n",
      "Epoch 26/50\n",
      "160/160 [==============================] - 95s 592ms/step - det_loss: 0.1052 - cls_loss: 0.0794 - box_loss: 5.1525e-04 - reg_l2_loss: 0.0711 - loss: 0.1763 - learning_rate: 0.0029 - gradient_norm: 1.2732 - val_det_loss: 0.0778 - val_cls_loss: 0.0591 - val_box_loss: 3.7325e-04 - val_reg_l2_loss: 0.0711 - val_loss: 0.1488\n",
      "Epoch 27/50\n",
      "160/160 [==============================] - 94s 587ms/step - det_loss: 0.1143 - cls_loss: 0.0842 - box_loss: 6.0213e-04 - reg_l2_loss: 0.0711 - loss: 0.1853 - learning_rate: 0.0027 - gradient_norm: 1.4421 - val_det_loss: 0.0802 - val_cls_loss: 0.0600 - val_box_loss: 4.0407e-04 - val_reg_l2_loss: 0.0711 - val_loss: 0.1512\n",
      "Epoch 28/50\n",
      "160/160 [==============================] - 96s 598ms/step - det_loss: 0.1092 - cls_loss: 0.0812 - box_loss: 5.5861e-04 - reg_l2_loss: 0.0710 - loss: 0.1802 - learning_rate: 0.0025 - gradient_norm: 1.3609 - val_det_loss: 0.0757 - val_cls_loss: 0.0580 - val_box_loss: 3.5356e-04 - val_reg_l2_loss: 0.0710 - val_loss: 0.1467\n",
      "Epoch 29/50\n",
      "160/160 [==============================] - 94s 586ms/step - det_loss: 0.1058 - cls_loss: 0.0792 - box_loss: 5.3130e-04 - reg_l2_loss: 0.0710 - loss: 0.1768 - learning_rate: 0.0023 - gradient_norm: 1.3133 - val_det_loss: 0.0738 - val_cls_loss: 0.0552 - val_box_loss: 3.7162e-04 - val_reg_l2_loss: 0.0710 - val_loss: 0.1448\n",
      "Epoch 30/50\n",
      "160/160 [==============================] - 102s 638ms/step - det_loss: 0.1076 - cls_loss: 0.0797 - box_loss: 5.5740e-04 - reg_l2_loss: 0.0710 - loss: 0.1786 - learning_rate: 0.0021 - gradient_norm: 1.3872 - val_det_loss: 0.0725 - val_cls_loss: 0.0565 - val_box_loss: 3.1987e-04 - val_reg_l2_loss: 0.0710 - val_loss: 0.1435\n",
      "Epoch 31/50\n",
      "160/160 [==============================] - 94s 590ms/step - det_loss: 0.1037 - cls_loss: 0.0777 - box_loss: 5.2162e-04 - reg_l2_loss: 0.0710 - loss: 0.1748 - learning_rate: 0.0020 - gradient_norm: 1.3195 - val_det_loss: 0.0690 - val_cls_loss: 0.0540 - val_box_loss: 2.9993e-04 - val_reg_l2_loss: 0.0710 - val_loss: 0.1400\n",
      "Epoch 32/50\n",
      "160/160 [==============================] - 94s 586ms/step - det_loss: 0.1021 - cls_loss: 0.0767 - box_loss: 5.0690e-04 - reg_l2_loss: 0.0710 - loss: 0.1730 - learning_rate: 0.0018 - gradient_norm: 1.2990 - val_det_loss: 0.0684 - val_cls_loss: 0.0538 - val_box_loss: 2.9385e-04 - val_reg_l2_loss: 0.0710 - val_loss: 0.1394\n",
      "Epoch 33/50\n",
      "160/160 [==============================] - 94s 586ms/step - det_loss: 0.1019 - cls_loss: 0.0765 - box_loss: 5.0782e-04 - reg_l2_loss: 0.0710 - loss: 0.1729 - learning_rate: 0.0016 - gradient_norm: 1.3584 - val_det_loss: 0.0711 - val_cls_loss: 0.0556 - val_box_loss: 3.1052e-04 - val_reg_l2_loss: 0.0710 - val_loss: 0.1421\n",
      "Epoch 34/50\n",
      "160/160 [==============================] - 93s 584ms/step - det_loss: 0.0996 - cls_loss: 0.0750 - box_loss: 4.9324e-04 - reg_l2_loss: 0.0710 - loss: 0.1706 - learning_rate: 0.0014 - gradient_norm: 1.2975 - val_det_loss: 0.0665 - val_cls_loss: 0.0519 - val_box_loss: 2.9329e-04 - val_reg_l2_loss: 0.0710 - val_loss: 0.1375\n",
      "Epoch 35/50\n",
      "160/160 [==============================] - 101s 632ms/step - det_loss: 0.0992 - cls_loss: 0.0748 - box_loss: 4.8833e-04 - reg_l2_loss: 0.0710 - loss: 0.1702 - learning_rate: 0.0013 - gradient_norm: 1.2662 - val_det_loss: 0.0659 - val_cls_loss: 0.0523 - val_box_loss: 2.7343e-04 - val_reg_l2_loss: 0.0710 - val_loss: 0.1369\n",
      "Epoch 36/50\n",
      "160/160 [==============================] - 94s 589ms/step - det_loss: 0.1002 - cls_loss: 0.0765 - box_loss: 4.7399e-04 - reg_l2_loss: 0.0710 - loss: 0.1712 - learning_rate: 0.0011 - gradient_norm: 1.2764 - val_det_loss: 0.0664 - val_cls_loss: 0.0514 - val_box_loss: 3.0034e-04 - val_reg_l2_loss: 0.0710 - val_loss: 0.1374\n",
      "Epoch 37/50\n",
      "160/160 [==============================] - 95s 592ms/step - det_loss: 0.0959 - cls_loss: 0.0736 - box_loss: 4.4547e-04 - reg_l2_loss: 0.0710 - loss: 0.1669 - learning_rate: 9.5137e-04 - gradient_norm: 1.2469 - val_det_loss: 0.0646 - val_cls_loss: 0.0511 - val_box_loss: 2.6985e-04 - val_reg_l2_loss: 0.0709 - val_loss: 0.1356\n",
      "Epoch 38/50\n",
      "160/160 [==============================] - 94s 585ms/step - det_loss: 0.0973 - cls_loss: 0.0742 - box_loss: 4.6125e-04 - reg_l2_loss: 0.0709 - loss: 0.1682 - learning_rate: 8.1204e-04 - gradient_norm: 1.2534 - val_det_loss: 0.0638 - val_cls_loss: 0.0502 - val_box_loss: 2.7148e-04 - val_reg_l2_loss: 0.0709 - val_loss: 0.1348\n",
      "Epoch 39/50\n",
      "160/160 [==============================] - 94s 588ms/step - det_loss: 0.1010 - cls_loss: 0.0758 - box_loss: 5.0558e-04 - reg_l2_loss: 0.0709 - loss: 0.1720 - learning_rate: 6.8220e-04 - gradient_norm: 1.3171 - val_det_loss: 0.0658 - val_cls_loss: 0.0514 - val_box_loss: 2.8812e-04 - val_reg_l2_loss: 0.0709 - val_loss: 0.1368\n",
      "Epoch 40/50\n",
      "160/160 [==============================] - 101s 633ms/step - det_loss: 0.0984 - cls_loss: 0.0751 - box_loss: 4.6480e-04 - reg_l2_loss: 0.0709 - loss: 0.1693 - learning_rate: 5.6241e-04 - gradient_norm: 1.2924 - val_det_loss: 0.0642 - val_cls_loss: 0.0508 - val_box_loss: 2.6881e-04 - val_reg_l2_loss: 0.0709 - val_loss: 0.1351\n",
      "Epoch 41/50\n",
      "160/160 [==============================] - 94s 587ms/step - det_loss: 0.0942 - cls_loss: 0.0722 - box_loss: 4.3975e-04 - reg_l2_loss: 0.0709 - loss: 0.1651 - learning_rate: 4.5315e-04 - gradient_norm: 1.2430 - val_det_loss: 0.0641 - val_cls_loss: 0.0506 - val_box_loss: 2.7128e-04 - val_reg_l2_loss: 0.0709 - val_loss: 0.1351\n",
      "Epoch 42/50\n",
      "160/160 [==============================] - 94s 589ms/step - det_loss: 0.0936 - cls_loss: 0.0718 - box_loss: 4.3676e-04 - reg_l2_loss: 0.0709 - loss: 0.1645 - learning_rate: 3.5486e-04 - gradient_norm: 1.1642 - val_det_loss: 0.0632 - val_cls_loss: 0.0503 - val_box_loss: 2.5892e-04 - val_reg_l2_loss: 0.0709 - val_loss: 0.1341\n",
      "Epoch 43/50\n",
      "160/160 [==============================] - 96s 598ms/step - det_loss: 0.0929 - cls_loss: 0.0720 - box_loss: 4.1904e-04 - reg_l2_loss: 0.0709 - loss: 0.1638 - learning_rate: 2.6796e-04 - gradient_norm: 1.2233 - val_det_loss: 0.0633 - val_cls_loss: 0.0503 - val_box_loss: 2.6075e-04 - val_reg_l2_loss: 0.0709 - val_loss: 0.1342\n",
      "Epoch 44/50\n",
      "160/160 [==============================] - 94s 585ms/step - det_loss: 0.0927 - cls_loss: 0.0716 - box_loss: 4.2116e-04 - reg_l2_loss: 0.0709 - loss: 0.1636 - learning_rate: 1.9280e-04 - gradient_norm: 1.1779 - val_det_loss: 0.0638 - val_cls_loss: 0.0507 - val_box_loss: 2.6154e-04 - val_reg_l2_loss: 0.0709 - val_loss: 0.1347\n",
      "Epoch 45/50\n",
      "160/160 [==============================] - 103s 645ms/step - det_loss: 0.0950 - cls_loss: 0.0728 - box_loss: 4.4255e-04 - reg_l2_loss: 0.0709 - loss: 0.1659 - learning_rate: 1.2968e-04 - gradient_norm: 1.2314 - val_det_loss: 0.0633 - val_cls_loss: 0.0503 - val_box_loss: 2.6045e-04 - val_reg_l2_loss: 0.0709 - val_loss: 0.1343\n",
      "Epoch 46/50\n",
      "160/160 [==============================] - 94s 587ms/step - det_loss: 0.0928 - cls_loss: 0.0711 - box_loss: 4.3414e-04 - reg_l2_loss: 0.0709 - loss: 0.1637 - learning_rate: 7.8880e-05 - gradient_norm: 1.2374 - val_det_loss: 0.0632 - val_cls_loss: 0.0502 - val_box_loss: 2.6031e-04 - val_reg_l2_loss: 0.0709 - val_loss: 0.1341\n",
      "Epoch 47/50\n",
      "160/160 [==============================] - 95s 591ms/step - det_loss: 0.0925 - cls_loss: 0.0709 - box_loss: 4.3295e-04 - reg_l2_loss: 0.0709 - loss: 0.1634 - learning_rate: 4.0593e-05 - gradient_norm: 1.2881 - val_det_loss: 0.0635 - val_cls_loss: 0.0504 - val_box_loss: 2.6177e-04 - val_reg_l2_loss: 0.0709 - val_loss: 0.1344\n",
      "Epoch 48/50\n",
      "160/160 [==============================] - 93s 584ms/step - det_loss: 0.0933 - cls_loss: 0.0714 - box_loss: 4.3734e-04 - reg_l2_loss: 0.0709 - loss: 0.1642 - learning_rate: 1.4980e-05 - gradient_norm: 1.2001 - val_det_loss: 0.0635 - val_cls_loss: 0.0504 - val_box_loss: 2.6054e-04 - val_reg_l2_loss: 0.0709 - val_loss: 0.1344\n",
      "Epoch 49/50\n",
      "160/160 [==============================] - 94s 586ms/step - det_loss: 0.0939 - cls_loss: 0.0717 - box_loss: 4.4342e-04 - reg_l2_loss: 0.0709 - loss: 0.1648 - learning_rate: 2.1472e-06 - gradient_norm: 1.2120 - val_det_loss: 0.0633 - val_cls_loss: 0.0503 - val_box_loss: 2.5887e-04 - val_reg_l2_loss: 0.0709 - val_loss: 0.1342\n",
      "Epoch 50/50\n",
      "160/160 [==============================] - 103s 645ms/step - det_loss: 0.0903 - cls_loss: 0.0698 - box_loss: 4.0820e-04 - reg_l2_loss: 0.0709 - loss: 0.1612 - learning_rate: 2.1467e-06 - gradient_norm: 1.2333 - val_det_loss: 0.0634 - val_cls_loss: 0.0503 - val_box_loss: 2.6026e-04 - val_reg_l2_loss: 0.0709 - val_loss: 0.1343\n"
     ]
    }
   ],
   "source": [
    "model = object_detector.create(train_data, model_spec=spec, batch_size=5, train_whole_model=True, epochs=50, validation_data=val_data)"
   ]
  },
  {
   "cell_type": "code",
   "execution_count": 11,
   "metadata": {
    "execution": {
     "iopub.execute_input": "2022-04-25T14:20:53.601963Z",
     "iopub.status.busy": "2022-04-25T14:20:53.601588Z",
     "iopub.status.idle": "2022-04-25T14:21:24.595065Z",
     "shell.execute_reply": "2022-04-25T14:21:24.593786Z",
     "shell.execute_reply.started": "2022-04-25T14:20:53.601930Z"
    }
   },
   "outputs": [
    {
     "name": "stdout",
     "output_type": "stream",
     "text": [
      "4/4 [==============================] - 27s 3s/step\n",
      "\n"
     ]
    },
    {
     "data": {
      "text/plain": [
       "{'AP': 0.94028926,\n",
       " 'AP50': 1.0,\n",
       " 'AP75': 1.0,\n",
       " 'APs': 0.8293918,\n",
       " 'APm': 0.925472,\n",
       " 'APl': 0.96077496,\n",
       " 'ARmax1': 0.6271326,\n",
       " 'ARmax10': 0.97260505,\n",
       " 'ARmax100': 0.97417724,\n",
       " 'ARs': 0.9,\n",
       " 'ARm': 0.9663518,\n",
       " 'ARl': 0.9845165,\n",
       " 'AP_/chicken': 0.9167776,\n",
       " 'AP_/ketchup_portion': 0.9418203,\n",
       " 'AP_/ketchup_bottle': 0.9336795,\n",
       " 'AP_/potatoe_fries': 0.94361615,\n",
       " 'AP_/empty_plate': 0.9655528}"
      ]
     },
     "execution_count": 11,
     "metadata": {},
     "output_type": "execute_result"
    }
   ],
   "source": [
    "model.evaluate(val_data)"
   ]
  },
  {
   "cell_type": "code",
   "execution_count": 12,
   "metadata": {
    "execution": {
     "iopub.execute_input": "2022-04-25T14:21:24.609482Z",
     "iopub.status.busy": "2022-04-25T14:21:24.609313Z",
     "iopub.status.idle": "2022-04-25T14:21:24.613513Z",
     "shell.execute_reply": "2022-04-25T14:21:24.612664Z",
     "shell.execute_reply.started": "2022-04-25T14:21:24.609458Z"
    }
   },
   "outputs": [],
   "source": [
    "path2 = '/notebooks/models/model1.tflite' # batch = 5; epochs = 50 architecture = efficientdet_lite1"
   ]
  },
  {
   "cell_type": "code",
   "execution_count": 13,
   "metadata": {
    "execution": {
     "iopub.execute_input": "2022-04-25T14:21:24.614805Z",
     "iopub.status.busy": "2022-04-25T14:21:24.614587Z",
     "iopub.status.idle": "2022-04-25T14:28:05.754893Z",
     "shell.execute_reply": "2022-04-25T14:28:05.753955Z",
     "shell.execute_reply.started": "2022-04-25T14:21:24.614763Z"
    }
   },
   "outputs": [
    {
     "name": "stderr",
     "output_type": "stream",
     "text": [
      "2022-04-25 14:21:33.708373: W tensorflow/python/util/util.cc:368] Sets are not currently considered sequences, but this may change in the future, so consider avoiding using them.\n",
      "2022-04-25 14:22:09.473805: W tensorflow/core/common_runtime/graph_constructor.cc:803] Node 'resample_p7/PartitionedCall' has 1 outputs but the _output_shapes attribute specifies shapes for 3 outputs. Output shapes may be inaccurate.\n",
      "2022-04-25 14:22:26.354023: W tensorflow/compiler/mlir/lite/python/tf_tfl_flatbuffer_helpers.cc:363] Ignored output_format.\n",
      "2022-04-25 14:22:26.354089: W tensorflow/compiler/mlir/lite/python/tf_tfl_flatbuffer_helpers.cc:366] Ignored drop_control_dependency.\n",
      "2022-04-25 14:22:26.354112: W tensorflow/compiler/mlir/lite/python/tf_tfl_flatbuffer_helpers.cc:372] Ignored change_concat_input_ranges.\n",
      "2022-04-25 14:22:26.355355: I tensorflow/cc/saved_model/reader.cc:43] Reading SavedModel from: /tmp/tmpyagxwbif\n",
      "2022-04-25 14:22:26.544494: I tensorflow/cc/saved_model/reader.cc:107] Reading meta graph with tags { serve }\n",
      "2022-04-25 14:22:26.544579: I tensorflow/cc/saved_model/reader.cc:148] Reading SavedModel debug info (if present) from: /tmp/tmpyagxwbif\n",
      "2022-04-25 14:22:27.332632: I tensorflow/cc/saved_model/loader.cc:212] Restoring SavedModel bundle.\n",
      "2022-04-25 14:22:32.201015: I tensorflow/cc/saved_model/loader.cc:196] Running initialization op on SavedModel bundle at path: /tmp/tmpyagxwbif\n",
      "2022-04-25 14:22:34.100333: I tensorflow/cc/saved_model/loader.cc:303] SavedModel load for tags { serve }; Status: success: OK. Took 7744980 microseconds.\n",
      "2022-04-25 14:22:36.810989: I tensorflow/compiler/mlir/tensorflow/utils/dump_mlir_util.cc:237] disabling MLIR crash reproducer, set env var `MLIR_CRASH_REPRODUCER_DIRECTORY` to enable.\n",
      "2022-04-25 14:22:39.893412: I tensorflow/compiler/mlir/lite/flatbuffer_export.cc:1962] Estimated count of arithmetic ops: 3.567 G  ops, equivalently 1.783 G  MACs\n",
      "\n",
      "fully_quantize: 0, inference_type: 6, input_inference_type: 3, output_inference_type: 0\n",
      "2022-04-25 14:28:04.032075: I tensorflow/compiler/mlir/lite/flatbuffer_export.cc:1962] Estimated count of arithmetic ops: 3.567 G  ops, equivalently 1.783 G  MACs\n",
      "\n"
     ]
    }
   ],
   "source": [
    "model.export(export_dir='.', tflite_filename=path2)"
   ]
  },
  {
   "cell_type": "code",
   "execution_count": 14,
   "metadata": {
    "colab": {
     "base_uri": "https://localhost:8080/"
    },
    "execution": {
     "iopub.execute_input": "2022-04-25T14:28:05.756493Z",
     "iopub.status.busy": "2022-04-25T14:28:05.756214Z",
     "iopub.status.idle": "2022-04-25T14:29:37.668998Z",
     "shell.execute_reply": "2022-04-25T14:29:37.668447Z",
     "shell.execute_reply.started": "2022-04-25T14:28:05.756422Z"
    },
    "id": "OHh4gWe6fopK",
    "outputId": "7a8289db-37d9-4fd0-efe8-9a250758a7d0"
   },
   "outputs": [
    {
     "name": "stdout",
     "output_type": "stream",
     "text": [
      "200/200 [==============================] - 90s 447ms/step\n",
      "\n"
     ]
    },
    {
     "data": {
      "text/plain": [
       "{'AP': 0.9185509,\n",
       " 'AP50': 1.0,\n",
       " 'AP75': 1.0,\n",
       " 'APs': 0.8089109,\n",
       " 'APm': 0.90745217,\n",
       " 'APl': 0.9312441,\n",
       " 'ARmax1': 0.62046695,\n",
       " 'ARmax10': 0.9409776,\n",
       " 'ARmax100': 0.9409776,\n",
       " 'ARs': 0.825,\n",
       " 'ARm': 0.9311237,\n",
       " 'ARl': 0.95132,\n",
       " 'AP_/chicken': 0.903558,\n",
       " 'AP_/ketchup_portion': 0.9139276,\n",
       " 'AP_/ketchup_bottle': 0.90554583,\n",
       " 'AP_/potatoe_fries': 0.930039,\n",
       " 'AP_/empty_plate': 0.9396842}"
      ]
     },
     "execution_count": 14,
     "metadata": {},
     "output_type": "execute_result"
    }
   ],
   "source": [
    "model.evaluate_tflite(path2, val_data)"
   ]
  },
  {
   "cell_type": "markdown",
   "metadata": {},
   "source": [
    "## **Architecture: EfficientDet-Lite2**"
   ]
  },
  {
   "cell_type": "code",
   "execution_count": 7,
   "metadata": {
    "execution": {
     "iopub.execute_input": "2022-04-25T15:19:42.762564Z",
     "iopub.status.busy": "2022-04-25T15:19:42.761738Z",
     "iopub.status.idle": "2022-04-25T15:19:43.637444Z",
     "shell.execute_reply": "2022-04-25T15:19:43.636299Z",
     "shell.execute_reply.started": "2022-04-25T15:19:42.762529Z"
    }
   },
   "outputs": [
    {
     "name": "stderr",
     "output_type": "stream",
     "text": [
      "2022-04-25 15:19:42.784970: I tensorflow/stream_executor/cuda/cuda_gpu_executor.cc:1052] successful NUMA node read from SysFS had negative value (-1), but there must be at least one NUMA node, so returning NUMA node zero\n",
      "2022-04-25 15:19:42.858069: I tensorflow/stream_executor/cuda/cuda_gpu_executor.cc:1052] successful NUMA node read from SysFS had negative value (-1), but there must be at least one NUMA node, so returning NUMA node zero\n",
      "2022-04-25 15:19:42.858599: I tensorflow/stream_executor/cuda/cuda_gpu_executor.cc:1052] successful NUMA node read from SysFS had negative value (-1), but there must be at least one NUMA node, so returning NUMA node zero\n",
      "2022-04-25 15:19:42.861524: I tensorflow/stream_executor/cuda/cuda_gpu_executor.cc:1052] successful NUMA node read from SysFS had negative value (-1), but there must be at least one NUMA node, so returning NUMA node zero\n",
      "2022-04-25 15:19:42.862012: I tensorflow/stream_executor/cuda/cuda_gpu_executor.cc:1052] successful NUMA node read from SysFS had negative value (-1), but there must be at least one NUMA node, so returning NUMA node zero\n",
      "2022-04-25 15:19:42.862567: I tensorflow/stream_executor/cuda/cuda_gpu_executor.cc:1052] successful NUMA node read from SysFS had negative value (-1), but there must be at least one NUMA node, so returning NUMA node zero\n",
      "2022-04-25 15:19:43.627210: I tensorflow/stream_executor/cuda/cuda_gpu_executor.cc:1052] successful NUMA node read from SysFS had negative value (-1), but there must be at least one NUMA node, so returning NUMA node zero\n",
      "2022-04-25 15:19:43.627513: I tensorflow/stream_executor/cuda/cuda_gpu_executor.cc:1052] successful NUMA node read from SysFS had negative value (-1), but there must be at least one NUMA node, so returning NUMA node zero\n",
      "2022-04-25 15:19:43.627791: I tensorflow/stream_executor/cuda/cuda_gpu_executor.cc:1052] successful NUMA node read from SysFS had negative value (-1), but there must be at least one NUMA node, so returning NUMA node zero\n",
      "2022-04-25 15:19:43.628031: I tensorflow/core/common_runtime/gpu/gpu_device.cc:1525] Created device /job:localhost/replica:0/task:0/device:GPU:0 with 7276 MB memory:  -> device: 0, name: Quadro M4000, pci bus id: 0000:00:05.0, compute capability: 5.2\n"
     ]
    }
   ],
   "source": [
    "spec =  model_spec.get('efficientdet_lite2')"
   ]
  },
  {
   "cell_type": "code",
   "execution_count": null,
   "metadata": {
    "execution": {
     "iopub.execute_input": "2022-04-25T15:19:50.823264Z",
     "iopub.status.busy": "2022-04-25T15:19:50.822948Z"
    }
   },
   "outputs": [
    {
     "name": "stdout",
     "output_type": "stream",
     "text": [
      "Epoch 1/50\n"
     ]
    }
   ],
   "source": [
    "model = object_detector.create(train_data, model_spec=spec, batch_size=5, train_whole_model=True, epochs=50, validation_data=val_data)"
   ]
  },
  {
   "cell_type": "code",
   "execution_count": null,
   "metadata": {},
   "outputs": [],
   "source": [
    "model.evaluate(val_data)"
   ]
  },
  {
   "cell_type": "code",
   "execution_count": null,
   "metadata": {},
   "outputs": [],
   "source": [
    "path3 = '/notebooks/models/model2.tflite' # batch = 5; epochs = 50 architecture = efficientdet_lite2"
   ]
  },
  {
   "cell_type": "code",
   "execution_count": null,
   "metadata": {},
   "outputs": [],
   "source": [
    "model.export(export_dir='.', tflite_filename=path3)"
   ]
  },
  {
   "cell_type": "code",
   "execution_count": null,
   "metadata": {
    "colab": {
     "base_uri": "https://localhost:8080/"
    },
    "id": "ACpfpuFnlkLF",
    "outputId": "7ae8eb41-9d9c-4afe-fa7b-a3641098e878"
   },
   "outputs": [],
   "source": [
    "model.evaluate_tflite(path3, val_data)"
   ]
  },
  {
   "cell_type": "markdown",
   "metadata": {},
   "source": [
    "## **Architecture: EfficientDet-Lite3**"
   ]
  },
  {
   "cell_type": "code",
   "execution_count": null,
   "metadata": {},
   "outputs": [],
   "source": [
    "spec =  model_spec.get('efficientdet_lite3')"
   ]
  },
  {
   "cell_type": "code",
   "execution_count": null,
   "metadata": {},
   "outputs": [],
   "source": [
    "model = object_detector.create(train_data, model_spec=spec, batch_size=5, train_whole_model=True, epochs=50, validation_data=val_data)"
   ]
  },
  {
   "cell_type": "code",
   "execution_count": null,
   "metadata": {},
   "outputs": [],
   "source": [
    "model.evaluate(val_data)"
   ]
  },
  {
   "cell_type": "code",
   "execution_count": null,
   "metadata": {},
   "outputs": [],
   "source": [
    "path4 = '/notebooks/models/model3.tflite' # batch = 5; epochs = 50 architecture = efficientdet_lite3"
   ]
  },
  {
   "cell_type": "code",
   "execution_count": null,
   "metadata": {},
   "outputs": [],
   "source": [
    "model.export(export_dir='.', tflite_filename=path4)"
   ]
  },
  {
   "cell_type": "code",
   "execution_count": null,
   "metadata": {},
   "outputs": [],
   "source": [
    "model.evaluate_tflite(path4, val_data)"
   ]
  },
  {
   "cell_type": "markdown",
   "metadata": {},
   "source": [
    "## **Architecture: EfficientDet-Lite4**"
   ]
  },
  {
   "cell_type": "code",
   "execution_count": null,
   "metadata": {},
   "outputs": [],
   "source": [
    "spec =  model_spec.get('efficientdet_lite4')"
   ]
  },
  {
   "cell_type": "code",
   "execution_count": null,
   "metadata": {},
   "outputs": [],
   "source": [
    "model = object_detector.create(train_data, model_spec=spec, batch_size=5, train_whole_model=True, epochs=50, validation_data=val_data)"
   ]
  },
  {
   "cell_type": "code",
   "execution_count": null,
   "metadata": {
    "colab": {
     "base_uri": "https://localhost:8080/",
     "height": 17
    },
    "collapsed": true,
    "id": "VdRihInCJ3ie",
    "jupyter": {
     "outputs_hidden": true
    },
    "outputId": "f2c37370-6ec3-41e6-903d-22e49e2f7dea"
   },
   "outputs": [
    {
     "data": {
      "application/javascript": [
       "\n",
       "    async function download(id, filename, size) {\n",
       "      if (!google.colab.kernel.accessAllowed) {\n",
       "        return;\n",
       "      }\n",
       "      const div = document.createElement('div');\n",
       "      const label = document.createElement('label');\n",
       "      label.textContent = `Downloading \"${filename}\": `;\n",
       "      div.appendChild(label);\n",
       "      const progress = document.createElement('progress');\n",
       "      progress.max = size;\n",
       "      div.appendChild(progress);\n",
       "      document.body.appendChild(div);\n",
       "\n",
       "      const buffers = [];\n",
       "      let downloaded = 0;\n",
       "\n",
       "      const channel = await google.colab.kernel.comms.open(id);\n",
       "      // Send a message to notify the kernel that we're ready.\n",
       "      channel.send({})\n",
       "\n",
       "      for await (const message of channel.messages) {\n",
       "        // Send a message to notify the kernel that we're ready.\n",
       "        channel.send({})\n",
       "        if (message.buffers) {\n",
       "          for (const buffer of message.buffers) {\n",
       "            buffers.push(buffer);\n",
       "            downloaded += buffer.byteLength;\n",
       "            progress.value = downloaded;\n",
       "          }\n",
       "        }\n",
       "      }\n",
       "      const blob = new Blob(buffers, {type: 'application/binary'});\n",
       "      const a = document.createElement('a');\n",
       "      a.href = window.URL.createObjectURL(blob);\n",
       "      a.download = filename;\n",
       "      div.appendChild(a);\n",
       "      a.click();\n",
       "      div.remove();\n",
       "    }\n",
       "  "
      ],
      "text/plain": [
       "<IPython.core.display.Javascript object>"
      ]
     },
     "metadata": {},
     "output_type": "display_data"
    },
    {
     "data": {
      "application/javascript": [
       "download(\"download_f466f03c-e5c8-4a91-a845-258a44b01400\", \"android_edgetpu.tflite\", 5844678)"
      ],
      "text/plain": [
       "<IPython.core.display.Javascript object>"
      ]
     },
     "metadata": {},
     "output_type": "display_data"
    }
   ],
   "source": [
    "model.evaluate(val_data)"
   ]
  },
  {
   "cell_type": "code",
   "execution_count": null,
   "metadata": {},
   "outputs": [],
   "source": [
    "path5 = '/notebooks/models/model4.tflite' # batch = 5; epochs = 50 architecture = efficientdet_lite4"
   ]
  },
  {
   "cell_type": "code",
   "execution_count": null,
   "metadata": {},
   "outputs": [],
   "source": [
    "model.export(export_dir='.', tflite_filename=path5)"
   ]
  },
  {
   "cell_type": "code",
   "execution_count": null,
   "metadata": {
    "id": "8LY1WrgMJBFd"
   },
   "outputs": [],
   "source": [
    "model.evaluate_tflite(path5, val_data)"
   ]
  }
 ],
 "metadata": {
  "accelerator": "GPU",
  "colab": {
   "collapsed_sections": [
    "RWP3fEPaGNvd"
   ],
   "name": "Capstone 2022 - Model Training Larkuo",
   "provenance": []
  },
  "kernelspec": {
   "display_name": "Python 3 (ipykernel)",
   "language": "python",
   "name": "python3"
  },
  "language_info": {
   "codemirror_mode": {
    "name": "ipython",
    "version": 3
   },
   "file_extension": ".py",
   "mimetype": "text/x-python",
   "name": "python",
   "nbconvert_exporter": "python",
   "pygments_lexer": "ipython3",
   "version": "3.8.10"
  }
 },
 "nbformat": 4,
 "nbformat_minor": 4
}
